{
  "nbformat": 4,
  "nbformat_minor": 0,
  "metadata": {
    "colab": {
      "private_outputs": true,
      "provenance": [],
      "collapsed_sections": [
        "gCFgpxoyphqP",
        "OVtJsKN_phqQ",
        "lssrdh5qphqQ",
        "U2RJ9gkRphqQ",
        "1M8mcRywphqQ",
        "tgIPom80phqQ",
        "JMzcOPDDphqR",
        "x-EpHcCOp1ci",
        "X_VqEhTip1ck",
        "8zGJKyg5p1ck",
        "PVzmfK_Ep1ck",
        "n3dbpmDWp1ck",
        "ylSl6qgtp1ck",
        "ZWILFDl5p1ck",
        "M7G43BXep1ck",
        "Ag9LCva-p1cl",
        "E6MkPsBcp1cl",
        "2cELzS2fp1cl",
        "3MPXvC8up1cl",
        "g-ATYxFrGrvw",
        "Yfr_Vlr8HBkt",
        "Iwf50b-R2tYG",
        "GMQiZwjn3iu7",
        "WVIkgGqN3qsr",
        "XkPnILGE3zoT",
        "Hlsf0x5436Go",
        "mT9DMSJo4nBL",
        "c49ITxTc407N",
        "OeJFEK0N496M",
        "9ExmJH0g5HBk",
        "cJNqERVU536h",
        "k5UmGsbsOxih",
        "T0VqWOYE6DLQ",
        "qBMux9mC6MCf",
        "nqoHp30x9hH9",
        "1UUpS68QDMuG",
        "kexQrXU-DjzY",
        "T5CmagL3EC8N",
        "P1XJ9OREExlT",
        "TIqpNgepFxVj",
        "bmKjuQ-FpsJ3",
        "HvGl1hHyA_VK",
        "-Kee-DAl2viO",
        "gIfDvo9L0UH2"
      ],
      "include_colab_link": true
    },
    "kernelspec": {
      "name": "python3",
      "display_name": "Python 3"
    },
    "language_info": {
      "name": "python"
    }
  },
  "cells": [
    {
      "cell_type": "markdown",
      "metadata": {
        "id": "view-in-github",
        "colab_type": "text"
      },
      "source": [
        "<a href=\"https://colab.research.google.com/github/Aamna-Khan-Git/Models/blob/main/Copy_of_Sample_ML_Submission_Template.ipynb\" target=\"_parent\"><img src=\"https://colab.research.google.com/assets/colab-badge.svg\" alt=\"Open In Colab\"/></a>"
      ]
    },
    {
      "cell_type": "markdown",
      "source": [
        "# **Project Name**    -    Yes Bank Stock Closing Price Prediction\n",
        "\n"
      ],
      "metadata": {
        "id": "vncDsAP0Gaoa"
      }
    },
    {
      "cell_type": "markdown",
      "source": [
        "##### **Project Type**    - EDA/Regression/Classification/Unsupervised\n",
        "##### **Contribution**    - Individual\n",
        "Name: Aamna Khan"
      ],
      "metadata": {
        "id": "beRrZCGUAJYm"
      }
    },
    {
      "cell_type": "markdown",
      "source": [
        "# **Project Summary -**"
      ],
      "metadata": {
        "id": "FJNUwmbgGyua"
      }
    },
    {
      "cell_type": "markdown",
      "source": [
        "This project focuses on predicting the monthly closing stock price of Yes Bank using historical data and machine learning techniques. The dataset spans from 2005 to 2020 and includes key financial features like open, high, low, and close prices. Through data preprocessing and exploratory data analysis, important trends were identified, such as the sharp rise in prices until 2017 followed by a significant drop post-2018 due to the bank's fraud scandal. Visualizations revealed strong positive correlations between closing price and other price features, supporting the use of supervised regression models like Linear Regression and Random Forest. The model helps forecast future stock prices, providing valuable insights for investors, while also highlighting the impact of financial mismanagement on stock performance.\n"
      ],
      "metadata": {
        "id": "F6v_1wHtG2nS"
      }
    },
    {
      "cell_type": "markdown",
      "source": [
        "# **GitHub Link -**"
      ],
      "metadata": {
        "id": "w6K7xa23Elo4"
      }
    },
    {
      "cell_type": "markdown",
      "source": [
        "[GitHub repository](*https*://github.com/Aamna-Khan-Git/Models.git)"
      ],
      "metadata": {
        "id": "h1o69JH3Eqqn"
      }
    },
    {
      "cell_type": "markdown",
      "source": [
        "# **Problem Statement**\n"
      ],
      "metadata": {
        "id": "yQaldy8SH6Dl"
      }
    },
    {
      "cell_type": "markdown",
      "source": [
        "Yes Bank, a prominent player in the Indian financial sector, experienced significant stock price volatility following a high-profile fraud case involving Rana Kapoor in 2018. This incident raised concerns about how such events influence market performance and whether predictive models can effectively anticipate such shifts. The objective of this project is to develop a supervised machine learning model capable of accurately predicting the monthly closing stock price of Yes Bank using historical data. The dataset includes monthly information on opening, closing, highest, and lowest prices. The solution aims to provide insights into market behavior and support financial decision-making using regression and time series techniques."
      ],
      "metadata": {
        "id": "DpeJGUA3kjGy"
      }
    },
    {
      "cell_type": "markdown",
      "source": [
        "# **General Guidelines** : -  "
      ],
      "metadata": {
        "id": "mDgbUHAGgjLW"
      }
    },
    {
      "cell_type": "markdown",
      "source": [
        "1.   Well-structured, formatted, and commented code is required.\n",
        "2.   Exception Handling, Production Grade Code & Deployment Ready Code will be a plus. Those students will be awarded some additional credits.\n",
        "     \n",
        "     The additional credits will have advantages over other students during Star Student selection.\n",
        "       \n",
        "             [ Note: - Deployment Ready Code is defined as, the whole .ipynb notebook should be executable in one go\n",
        "                       without a single error logged. ]\n",
        "\n",
        "3.   Each and every logic should have proper comments.\n",
        "4. You may add as many number of charts you want. Make Sure for each and every chart the following format should be answered.\n",
        "        \n",
        "\n",
        "```\n",
        "# Chart visualization code\n",
        "```\n",
        "            \n",
        "\n",
        "*   Why did you pick the specific chart?\n",
        "*   What is/are the insight(s) found from the chart?\n",
        "* Will the gained insights help creating a positive business impact?\n",
        "Are there any insights that lead to negative growth? Justify with specific reason.\n",
        "\n",
        "5. You have to create at least 15 logical & meaningful charts having important insights.\n",
        "\n",
        "\n",
        "[ Hints : - Do the Vizualization in  a structured way while following \"UBM\" Rule.\n",
        "\n",
        "U - Univariate Analysis,\n",
        "\n",
        "B - Bivariate Analysis (Numerical - Categorical, Numerical - Numerical, Categorical - Categorical)\n",
        "\n",
        "M - Multivariate Analysis\n",
        " ]\n",
        "\n",
        "\n",
        "\n",
        "\n",
        "\n",
        "6. You may add more ml algorithms for model creation. Make sure for each and every algorithm, the following format should be answered.\n",
        "\n",
        "\n",
        "*   Explain the ML Model used and it's performance using Evaluation metric Score Chart.\n",
        "\n",
        "\n",
        "*   Cross- Validation & Hyperparameter Tuning\n",
        "\n",
        "*   Have you seen any improvement? Note down the improvement with updates Evaluation metric Score Chart.\n",
        "\n",
        "*   Explain each evaluation metric's indication towards business and the business impact pf the ML model used.\n",
        "\n",
        "\n",
        "\n",
        "\n",
        "\n",
        "\n",
        "\n",
        "\n",
        "\n",
        "\n",
        "\n",
        "\n",
        "\n",
        "\n",
        "\n",
        "\n",
        "\n",
        "\n"
      ],
      "metadata": {
        "id": "ZrxVaUj-hHfC"
      }
    },
    {
      "cell_type": "markdown",
      "source": [
        "# ***Let's Begin !***"
      ],
      "metadata": {
        "id": "O_i_v8NEhb9l"
      }
    },
    {
      "cell_type": "markdown",
      "source": [
        "## ***1. Know Your Data***"
      ],
      "metadata": {
        "id": "HhfV-JJviCcP"
      }
    },
    {
      "cell_type": "markdown",
      "source": [
        "### Import Libraries"
      ],
      "metadata": {
        "id": "Y3lxredqlCYt"
      }
    },
    {
      "cell_type": "code",
      "source": [
        "# Import Libraries\n",
        "import pandas as pd\n",
        "import numpy as np\n",
        "import matplotlib.pyplot as plt\n",
        "import seaborn as sns\n",
        "import warnings\n",
        "warnings.filterwarnings(\"ignore\")"
      ],
      "metadata": {
        "id": "M8Vqi-pPk-HR"
      },
      "execution_count": null,
      "outputs": []
    },
    {
      "cell_type": "markdown",
      "source": [
        "### Dataset Loading"
      ],
      "metadata": {
        "id": "3RnN4peoiCZX"
      }
    },
    {
      "cell_type": "code",
      "source": [
        "# Load Dataset\n",
        "from google.colab import drive\n",
        "drive.mount('/content/drive')"
      ],
      "metadata": {
        "id": "4CkvbW_SlZ_R"
      },
      "execution_count": null,
      "outputs": []
    },
    {
      "cell_type": "markdown",
      "source": [
        "### Dataset First View"
      ],
      "metadata": {
        "id": "x71ZqKXriCWQ"
      }
    },
    {
      "cell_type": "code",
      "source": [
        "# Dataset First Look\n",
        "df1 = pd.read_csv('/content/drive/MyDrive/Colab Notebooks/labmentix/data_YesBank_StockPrices.csv')\n",
        "df1.head()"
      ],
      "metadata": {
        "id": "LWNFOSvLl09H"
      },
      "execution_count": null,
      "outputs": []
    },
    {
      "cell_type": "markdown",
      "source": [
        "### Dataset Rows & Columns count"
      ],
      "metadata": {
        "id": "7hBIi_osiCS2"
      }
    },
    {
      "cell_type": "code",
      "source": [
        "# Dataset Rows & Columns count\n",
        "df1.shape"
      ],
      "metadata": {
        "id": "Kllu7SJgmLij"
      },
      "execution_count": null,
      "outputs": []
    },
    {
      "cell_type": "markdown",
      "source": [
        "### Dataset Information"
      ],
      "metadata": {
        "id": "JlHwYmJAmNHm"
      }
    },
    {
      "cell_type": "code",
      "source": [
        "# Dataset Info\n",
        "df1.info()"
      ],
      "metadata": {
        "id": "e9hRXRi6meOf"
      },
      "execution_count": null,
      "outputs": []
    },
    {
      "cell_type": "markdown",
      "source": [
        "#### Duplicate Values"
      ],
      "metadata": {
        "id": "35m5QtbWiB9F"
      }
    },
    {
      "cell_type": "code",
      "source": [
        "# Dataset Duplicate Value Count\n",
        "df1.duplicated().sum()"
      ],
      "metadata": {
        "id": "1sLdpKYkmox0"
      },
      "execution_count": null,
      "outputs": []
    },
    {
      "cell_type": "markdown",
      "source": [
        "#### Missing Values/Null Values"
      ],
      "metadata": {
        "id": "PoPl-ycgm1ru"
      }
    },
    {
      "cell_type": "code",
      "source": [
        "# Missing Values/Null Values Count\n",
        "df1.isnull().sum()"
      ],
      "metadata": {
        "id": "GgHWkxvamxVg"
      },
      "execution_count": null,
      "outputs": []
    },
    {
      "cell_type": "code",
      "source": [
        "# Visualizing the missing values\n",
        "sns.heatmap(df1.isnull(), cbar=False)"
      ],
      "metadata": {
        "id": "3q5wnI3om9sJ"
      },
      "execution_count": null,
      "outputs": []
    },
    {
      "cell_type": "markdown",
      "source": [
        "### What did you know about your dataset?"
      ],
      "metadata": {
        "id": "H0kj-8xxnORC"
      }
    },
    {
      "cell_type": "markdown",
      "source": [
        "The dataset contains 185 rows and 5 columns, namely, date, open, high, low and close price. The date column is object data type, while the rest of the columns are of float64 data type. There are no duplicates or null values in the dataset."
      ],
      "metadata": {
        "id": "gfoNAAC-nUe_"
      }
    },
    {
      "cell_type": "markdown",
      "source": [
        "## ***2. Understanding Your Variables***"
      ],
      "metadata": {
        "id": "nA9Y7ga8ng1Z"
      }
    },
    {
      "cell_type": "code",
      "source": [
        "# Dataset Columns\n",
        "df1.columns"
      ],
      "metadata": {
        "id": "j7xfkqrt5Ag5"
      },
      "execution_count": null,
      "outputs": []
    },
    {
      "cell_type": "code",
      "source": [
        "# Dataset Describe\n",
        "df1.describe()"
      ],
      "metadata": {
        "id": "DnOaZdaE5Q5t"
      },
      "execution_count": null,
      "outputs": []
    },
    {
      "cell_type": "markdown",
      "source": [
        "### Variables Description"
      ],
      "metadata": {
        "id": "PBTbrJXOngz2"
      }
    },
    {
      "cell_type": "markdown",
      "source": [
        "The dataset contains four important features about Yes Bank's monthly stock prices: Open, High, Low, and Close. The Open price is the stock's value at the start of the month, which varies a lot—from as low as ₹10 to as high as ₹369.95, with an average around ₹105. The High price is the highest value the stock reached in a month, going up to ₹404, again showing big ups and downs. The Low price is the lowest value in the month, with a range from ₹5.55 to ₹345.50. The Close price is the stock's value at the end of the month and is the one we aim to predict. It ranges from ₹9.98 to ₹367.90, with an average of ₹105. However, since the middle value (median) is much lower at ₹62.54, it means that there were some very high prices that pulled the average up. Overall, the stock prices show a lot of variation, which makes this a good case for prediction using machine learning.\n"
      ],
      "metadata": {
        "id": "aJV4KIxSnxay"
      }
    },
    {
      "cell_type": "markdown",
      "source": [
        "### Check Unique Values for each variable."
      ],
      "metadata": {
        "id": "u3PMJOP6ngxN"
      }
    },
    {
      "cell_type": "code",
      "source": [
        "# Check Unique Values for each variable.\n",
        "df1.nunique()"
      ],
      "metadata": {
        "id": "zms12Yq5n-jE"
      },
      "execution_count": null,
      "outputs": []
    },
    {
      "cell_type": "markdown",
      "source": [
        "## 3. ***Data Wrangling***"
      ],
      "metadata": {
        "id": "dauF4eBmngu3"
      }
    },
    {
      "cell_type": "markdown",
      "source": [
        "### Data Wrangling Code"
      ],
      "metadata": {
        "id": "bKJF3rekwFvQ"
      }
    },
    {
      "cell_type": "markdown",
      "source": [],
      "metadata": {
        "id": "LdxhW_NiFeIY"
      }
    },
    {
      "cell_type": "code",
      "source": [
        "import pandas as pd\n",
        "from datetime import datetime\n",
        "\n",
        "# Assuming df1 is already loaded\n",
        "# df1 = pd.read_csv('/content/drive/MyDrive/Colab Notebooks/labmentix/data_YesBank_StockPrices.csv')\n",
        "\n",
        "# Create a mapping for month abbreviations to numbers\n",
        "month_map = {\n",
        "    'Jan': '01', 'Feb': '02', 'Mar': '03', 'Apr': '04',\n",
        "    'May': '05', 'Jun': '06', 'Jul': '07', 'Aug': '08',\n",
        "    'Sep': '09', 'Oct': '10', 'Nov': '11', 'Dec': '12'\n",
        "}\n",
        "\n",
        "# First, ensure the 'Date' column is treated as strings\n",
        "df1['Date'] = df1['Date'].astype(str)\n",
        "\n",
        "# Split the 'Date' column by the hyphen to separate month abbreviation and year/rest\n",
        "df1['Date_parts'] = df1['Date'].str.split('-')\n",
        "\n",
        "# Extract month abbreviation and year\n",
        "df1['Month_abbr'] = df1['Date_parts'].str[0]\n",
        "df1['Year_str'] = df1['Date_parts'].str[1] # Keep year as string for now\n",
        "\n",
        "# Map month abbreviations to numbers\n",
        "df1['Month_num_str'] = df1['Month_abbr'].apply(lambda x: month_map.get(x, '00'))\n",
        "\n",
        "# --- FIX START ---\n",
        "# Ensure the year is always a 4-digit string\n",
        "# We can assume years before 2000 are 19XX, and years after are 20XX\n",
        "# A more robust approach would require knowing the exact range of years\n",
        "# For simplicity, let's assume any 2-digit year refers to the 2000s\n",
        "df1['Year_4_digit_str'] = df1['Year_str'].apply(lambda y: '20' + y if len(y) == 2 else y)\n",
        "# --- FIX END ---\n",
        "\n",
        "# Create an integer representation like YYYYMM\n",
        "# Concatenate the 4-digit year string and the 2-digit month number string\n",
        "df1['Date_integer'] = (df1['Year_4_digit_str'] + df1['Month_num_str']).astype(int)\n",
        "\n",
        "# Drop the intermediate columns and the original 'Date' column\n",
        "df1 = df1.drop(columns=['Date', 'Date_parts', 'Month_abbr', 'Year_str', 'Month_num_str', 'Year_4_digit_str'])\n",
        "\n",
        "# Display the first and last few rows to see the result\n",
        "print(df1.head(20))\n",
        "print (df1.tail(20))\n",
        "\n",
        "# Check the data type of the new column\n",
        "print(\"\\nData type of 'Date_integer' column:\")\n",
        "print(df1['Date_integer'].dtype)\n",
        "\n",
        "# Now, for the splitting code, we can simplify it since Date_integer is always YYYYMM"
      ],
      "metadata": {
        "id": "a3Ma0zqrBiL5"
      },
      "execution_count": null,
      "outputs": []
    },
    {
      "cell_type": "markdown",
      "source": [
        "### What all manipulations have you done and insights you found?"
      ],
      "metadata": {
        "id": "MSa1f5Uengrz"
      }
    },
    {
      "cell_type": "markdown",
      "source": [
        "The Date column was converted from object to integer datatype, called Date_integer in order to make it ready for training the machine learning model, and the Date column was dropped. The Date_integer column follows YYYMM format."
      ],
      "metadata": {
        "id": "LbyXE7I1olp8"
      }
    },
    {
      "cell_type": "markdown",
      "source": [
        "## ***4. Data Vizualization, Storytelling & Experimenting with charts : Understand the relationships between variables***"
      ],
      "metadata": {
        "id": "GF8Ens_Soomf"
      }
    },
    {
      "cell_type": "markdown",
      "source": [
        "#### Chart - 1"
      ],
      "metadata": {
        "id": "0wOQAZs5pc--"
      }
    },
    {
      "cell_type": "code",
      "source": [
        "# Chart - 3 visualization code\n",
        "# Chart - 1 visualization code\n",
        "# bar graph showing relationship between close price and date connected by lines\n",
        "\n",
        "# Import necessary libraries for plotting\n",
        "import matplotlib.pyplot as plt\n",
        "import seaborn as sns\n",
        "\n",
        "# Ensure the 'Date_integer' column is sorted for a meaningful line plot\n",
        "df_sorted = df1.sort_values(by='Date_integer')\n",
        "\n",
        "# Create a figure and a set of subplots\n",
        "plt.figure(figsize=(14, 7))\n",
        "\n",
        "# Plotting the close price against the Date_integer\n",
        "# Use 'Date_integer' as the x-axis and 'Close' as the y-axis\n",
        "# A line plot is suitable for showing trends over time\n",
        "plt.plot(df_sorted['Date_integer'], df_sorted['Close'])\n",
        "\n",
        "# Add title and labels\n",
        "plt.title('Relationship between Close Price and Date')\n",
        "plt.xlabel('Date (YYYYMM)')\n",
        "plt.ylabel('Close Price')\n",
        "\n",
        "# Rotate x-axis labels for better readability, especially if there are many dates\n",
        "plt.xticks(rotation=45)\n",
        "\n",
        "# Add a grid for easier reading\n",
        "plt.grid(True)\n",
        "\n",
        "# Improve layout to prevent labels overlapping\n",
        "plt.tight_layout()\n",
        "\n",
        "# Display the plot\n",
        "plt.show()"
      ],
      "metadata": {
        "id": "7v_ESjsspbW7"
      },
      "execution_count": null,
      "outputs": []
    },
    {
      "cell_type": "markdown",
      "source": [
        "##### 1. Why did you pick the specific chart?"
      ],
      "metadata": {
        "id": "K5QZ13OEpz2H"
      }
    },
    {
      "cell_type": "markdown",
      "source": [
        "The chart shows relationship between given dates and closing price."
      ],
      "metadata": {
        "id": "XESiWehPqBRc"
      }
    },
    {
      "cell_type": "markdown",
      "source": [
        "##### 2. What is/are the insight(s) found from the chart?"
      ],
      "metadata": {
        "id": "lQ7QKXXCp7Bj"
      }
    },
    {
      "cell_type": "markdown",
      "source": [
        "No linear trend is seen, closing price increases from 2006 to 2018 and then falls sharply. This is consistent with the problem statement."
      ],
      "metadata": {
        "id": "C_j1G7yiqdRP"
      }
    },
    {
      "cell_type": "markdown",
      "source": [
        "##### 3. Will the gained insights help creating a positive business impact?\n",
        "Are there any insights that lead to negative growth? Justify with specific reason."
      ],
      "metadata": {
        "id": "448CDAPjqfQr"
      }
    },
    {
      "cell_type": "markdown",
      "source": [
        "Yes, the insights can support positive business impact by helping investors and stakeholders identify patterns in stock price movement and make informed decisions. The graph shows a sharp decline in Yes Bank's closing price after 2018, indicating negative growth. This drop corresponds to the financial fraud case involving the bank's founder, Rana Kapoor, which led to a loss of investor confidence. While this reflects a negative outcome, recognizing such events is crucial for improving risk management and planning recovery strategies.\n"
      ],
      "metadata": {
        "id": "3cspy4FjqxJW"
      }
    },
    {
      "cell_type": "markdown",
      "source": [
        "#### Chart - 2"
      ],
      "metadata": {
        "id": "KSlN3yHqYklG"
      }
    },
    {
      "cell_type": "code",
      "source": [
        "# Chart - 2 visualization code\n",
        "# Line graph showing relationship between Open and Close Price\n",
        "\n",
        "# Import necessary libraries for plotting\n",
        "import matplotlib.pyplot as plt\n",
        "import seaborn as sns\n",
        "\n",
        "# While sorting by Date_integer is good for time series, for a scatter plot\n",
        "# comparing Open and Close, sorting isn't strictly necessary, but we can keep\n",
        "# the sorted DataFrame if preferred.\n",
        "df_sorted = df1.sort_values(by='Date_integer')\n",
        "\n",
        "\n",
        "# Create a figure and a set of subplots\n",
        "plt.figure(figsize=(10, 6))\n",
        "\n",
        "# Plotting the Close price against the Open price\n",
        "# A scatter plot is more suitable for showing the relationship between two numerical variables\n",
        "plt.scatter(df_sorted['Open'], df_sorted['Close'])\n",
        "\n",
        "# Add title and labels\n",
        "plt.title('Relationship between Open Price and Close Price')\n",
        "plt.xlabel('Open Price')\n",
        "plt.ylabel('Close Price')\n",
        "\n",
        "# Add a grid for easier reading\n",
        "plt.grid(True)\n",
        "\n",
        "# Improve layout\n",
        "plt.tight_layout()\n",
        "\n",
        "# Display the plot\n",
        "plt.show()"
      ],
      "metadata": {
        "id": "R4YgtaqtYklH"
      },
      "execution_count": null,
      "outputs": []
    },
    {
      "cell_type": "markdown",
      "source": [
        "##### 1. Why did you pick the specific chart?"
      ],
      "metadata": {
        "id": "t6dVpIINYklI"
      }
    },
    {
      "cell_type": "markdown",
      "source": [
        "To check for relationship between open price and close price and identify any strong correlations that could support predictive modeling."
      ],
      "metadata": {
        "id": "5aaW0BYyYklI"
      }
    },
    {
      "cell_type": "markdown",
      "source": [
        "##### 2. What is/are the insight(s) found from the chart?"
      ],
      "metadata": {
        "id": "ijmpgYnKYklI"
      }
    },
    {
      "cell_type": "markdown",
      "source": [
        "There is a clear positive correlation between open and close prices. When the opening price is high, the closing price tends to be high as well."
      ],
      "metadata": {
        "id": "PSx9atu2YklI"
      }
    },
    {
      "cell_type": "markdown",
      "source": [
        "##### 3. Will the gained insights help creating a positive business impact?\n",
        "Are there any insights that lead to negative growth? Justify with specific reason."
      ],
      "metadata": {
        "id": "-JiQyfWJYklI"
      }
    },
    {
      "cell_type": "markdown",
      "source": [
        "Yes, this insight helps build a reliable prediction model for closing prices using opening prices, which can aid in informed investment decisions. There is no evidence of negative growth in this chart, but some deviations from the trend could hint at unusual market behavior worth investigating.\n",
        "\n"
      ],
      "metadata": {
        "id": "BcBbebzrYklV"
      }
    },
    {
      "cell_type": "markdown",
      "source": [
        "#### Chart - 3"
      ],
      "metadata": {
        "id": "EM7whBJCYoAo"
      }
    },
    {
      "cell_type": "code",
      "source": [
        "# Chart - 3 visualization code\n",
        "\n",
        "# Line graph showing relationship between High and Close Price\n",
        "\n",
        "# Import necessary libraries for plotting\n",
        "import matplotlib.pyplot as plt\n",
        "import seaborn as sns\n",
        "\n",
        "# While sorting by Date_integer is good for time series, for a scatter plot\n",
        "# comparing High and Close, sorting isn't strictly necessary, but we can keep\n",
        "# the sorted DataFrame if preferred.\n",
        "df_sorted = df1.sort_values(by='Date_integer')\n",
        "\n",
        "\n",
        "# Create a figure and a set of subplots\n",
        "plt.figure(figsize=(10, 6))\n",
        "\n",
        "# Plotting the Close price against the Open price\n",
        "# A scatter plot is more suitable for showing the relationship between two numerical variables\n",
        "plt.scatter(df_sorted['High'], df_sorted['Close'])\n",
        "\n",
        "# Add title and labels\n",
        "plt.title('Relationship between High Price and Close Price')\n",
        "plt.xlabel('High Price')\n",
        "plt.ylabel('Close Price')\n",
        "\n",
        "# Add a grid for easier reading\n",
        "plt.grid(True)\n",
        "\n",
        "# Improve layout\n",
        "plt.tight_layout()\n",
        "\n",
        "# Display the plot\n",
        "plt.show()"
      ],
      "metadata": {
        "id": "t6GMdE67YoAp"
      },
      "execution_count": null,
      "outputs": []
    },
    {
      "cell_type": "markdown",
      "source": [
        "##### 1. Why did you pick the specific chart?"
      ],
      "metadata": {
        "id": "fge-S5ZAYoAp"
      }
    },
    {
      "cell_type": "markdown",
      "source": [
        "This chart was chosen to understand how the highest stock price in a month relates to the closing price, which helps evaluate if the high price can be a strong predictor."
      ],
      "metadata": {
        "id": "5dBItgRVYoAp"
      }
    },
    {
      "cell_type": "markdown",
      "source": [
        "##### 2. What is/are the insight(s) found from the chart?"
      ],
      "metadata": {
        "id": "85gYPyotYoAp"
      }
    },
    {
      "cell_type": "markdown",
      "source": [
        "The chart shows a strong positive correlation between high and close prices. When the high price increases, the close price also tends to increase."
      ],
      "metadata": {
        "id": "4jstXR6OYoAp"
      }
    },
    {
      "cell_type": "markdown",
      "source": [
        "##### 3. Will the gained insights help creating a positive business impact?\n",
        "Are there any insights that lead to negative growth? Justify with specific reason."
      ],
      "metadata": {
        "id": "RoGjAbkUYoAp"
      }
    },
    {
      "cell_type": "markdown",
      "source": [
        "Yes, knowing this relationship allows for better forecasting of closing prices using high prices, which can assist in financial planning. The chart does not directly show negative growth, but a few scattered points indicate cases where the closing price dropped despite a high peak, suggesting possible volatility."
      ],
      "metadata": {
        "id": "zfJ8IqMcYoAp"
      }
    },
    {
      "cell_type": "markdown",
      "source": [
        "#### Chart - 4"
      ],
      "metadata": {
        "id": "4Of9eVA-YrdM"
      }
    },
    {
      "cell_type": "code",
      "source": [
        "# Chart - 4 visualization code\n",
        "\n",
        "# Line graph showing relationship between Open and Close Price\n",
        "\n",
        "# Import necessary libraries for plotting\n",
        "import matplotlib.pyplot as plt\n",
        "import seaborn as sns\n",
        "\n",
        "# While sorting by Date_integer is good for time series, for a scatter plot\n",
        "# comparing Open and Close, sorting isn't strictly necessary, but we can keep\n",
        "# the sorted DataFrame if preferred.\n",
        "df_sorted = df1.sort_values(by='Date_integer')\n",
        "\n",
        "\n",
        "# Create a figure and a set of subplots\n",
        "plt.figure(figsize=(10, 6))\n",
        "\n",
        "# Plotting the Close price against the Open price\n",
        "# A scatter plot is more suitable for showing the relationship between two numerical variables\n",
        "plt.scatter(df_sorted['Low'], df_sorted['Close'])\n",
        "\n",
        "# Add title and labels\n",
        "plt.title('Relationship between Low Price and Close Price')\n",
        "plt.xlabel('Low Price')\n",
        "plt.ylabel('Close Price')\n",
        "\n",
        "# Add a grid for easier reading\n",
        "plt.grid(True)\n",
        "\n",
        "# Improve layout\n",
        "plt.tight_layout()\n",
        "\n",
        "# Display the plot\n",
        "plt.show()"
      ],
      "metadata": {
        "id": "irlUoxc8YrdO"
      },
      "execution_count": null,
      "outputs": []
    },
    {
      "cell_type": "markdown",
      "source": [
        "##### 1. Why did you pick the specific chart?"
      ],
      "metadata": {
        "id": "iky9q4vBYrdO"
      }
    },
    {
      "cell_type": "markdown",
      "source": [
        "This chart was chosen to analyze how the lowest price in a month influences the closing price, helping identify its strength as a predictor."
      ],
      "metadata": {
        "id": "aJRCwT6DYrdO"
      }
    },
    {
      "cell_type": "markdown",
      "source": [
        "##### 2. What is/are the insight(s) found from the chart?"
      ],
      "metadata": {
        "id": "F6T5p64dYrdO"
      }
    },
    {
      "cell_type": "markdown",
      "source": [
        "There is a strong positive linear relationship.When the low price increases, the close price also tends to rise, indicating they move closely together.\n",
        "\n"
      ],
      "metadata": {
        "id": "Xx8WAJvtYrdO"
      }
    },
    {
      "cell_type": "markdown",
      "source": [
        "##### 3. Will the gained insights help creating a positive business impact?\n",
        "Are there any insights that lead to negative growth? Justify with specific reason."
      ],
      "metadata": {
        "id": "y-Ehk30pYrdP"
      }
    },
    {
      "cell_type": "markdown",
      "source": [
        "Yes, understanding this relationship allows better prediction of closing prices and helps investors assess risk during price drops. No clear sign of negative growth is seen here, but minor deviations could signal brief instability worth monitoring."
      ],
      "metadata": {
        "id": "jLNxxz7MYrdP"
      }
    },
    {
      "cell_type": "markdown",
      "source": [
        "#### Chart - 5"
      ],
      "metadata": {
        "id": "bamQiAODYuh1"
      }
    },
    {
      "cell_type": "code",
      "source": [
        "# Chart - 6 visualization code\n",
        "# Code to split the Date_integer column into Month and Year\n",
        "\n",
        "# Ensure df1 is loaded and 'Date_integer' exists. Assuming the 'Date_integer' is in YYYYMM format\n",
        "# If you re-run the previous data wrangling cell, df1 will have the 'Date_integer' column.\n",
        "\n",
        "# Convert the 'Date_integer' to string type to easily extract parts\n",
        "df1['Date_integer_str'] = df1['Date_integer'].astype(str)\n",
        "\n",
        "# Extract Year (first 4 characters) and Month (last 2 characters)\n",
        "# The Date_integer is in YYYYMM format, so we extract based on fixed lengths\n",
        "df1['Year_split'] = df1['Date_integer_str'].str[:4]\n",
        "df1['Month_split'] = df1['Date_integer_str'].str[4:]\n",
        "\n",
        "\n",
        "# Convert the extracted columns back to integer type if needed\n",
        "df1['Year_split'] = df1['Year_split'].astype(int)\n",
        "df1['Month_split'] = df1['Month_split'].astype(int)\n",
        "\n",
        "# Drop the intermediate string column\n",
        "df1 = df1.drop(columns=['Date_integer_str'])\n",
        "\n",
        "# Display the first few rows to verify the new columns\n",
        "print(df1.head(20))\n",
        "\n",
        "# Display the last few rows to verify the new columns\n",
        "print(df1.tail(20))\n",
        "\n",
        "# Check the data types of the new columns\n",
        "print(\"\\nData types of new columns:\")\n",
        "print(df1[['Year_split', 'Month_split']].dtypes)\n",
        "\n",
        "# Chart - 7 visualization code\n",
        "# Line plot showing year-wise change in closing price\n",
        "\n",
        "# Import necessary libraries for plotting\n",
        "import matplotlib.pyplot as plt\n",
        "import seaborn as sns\n",
        "\n",
        "# Calculate the average closing price per year\n",
        "# Group by 'Year_split' and calculate the mean of 'Close'\n",
        "yearly_close_avg = df1.groupby('Year_split')['Close'].mean().reset_index()\n",
        "\n",
        "# Ensure the data is sorted by year for a meaningful line plot\n",
        "yearly_close_avg_sorted = yearly_close_avg.sort_values(by='Year_split')\n",
        "\n",
        "# Create a figure and a set of subplots\n",
        "plt.figure(figsize=(14, 7))\n",
        "\n",
        "# Plotting the average closing price against the year\n",
        "plt.plot(yearly_close_avg_sorted['Year_split'], yearly_close_avg_sorted['Close'], marker='o') # Added marker for clarity at each data point\n",
        "\n",
        "# Add title and labels\n",
        "plt.title('Year-wise Average Closing Price')\n",
        "plt.xlabel('Year')\n",
        "# Setting x-axis labels explicitly to the years in the data\n",
        "plt.xticks(yearly_close_avg_sorted['Year_split'])\n",
        "plt.ylabel('Average Close Price')\n",
        "\n",
        "# Improve layout\n",
        "plt.tight_layout()\n",
        "\n",
        "# Display the plot\n",
        "plt.show()"
      ],
      "metadata": {
        "id": "TIJwrbroYuh3"
      },
      "execution_count": null,
      "outputs": []
    },
    {
      "cell_type": "markdown",
      "source": [
        "##### 1. Why did you pick the specific chart?"
      ],
      "metadata": {
        "id": "QHF8YVU7Yuh3"
      }
    },
    {
      "cell_type": "markdown",
      "source": [
        "This chart was selected to observe long-term trends in the average closing price of Yes Bank’s stock over the years and to identify periods of significant rise or decline."
      ],
      "metadata": {
        "id": "dcxuIMRPYuh3"
      }
    },
    {
      "cell_type": "markdown",
      "source": [
        "##### 2. What is/are the insight(s) found from the chart?"
      ],
      "metadata": {
        "id": "GwzvFGzlYuh3"
      }
    },
    {
      "cell_type": "markdown",
      "source": [
        "The closing price steadily increased from 2005 to 2017, peaking in 2017. However, a sharp decline is seen after 2018, with a major drop in 2019 and 2020."
      ],
      "metadata": {
        "id": "uyqkiB8YYuh3"
      }
    },
    {
      "cell_type": "markdown",
      "source": [
        "##### 3. Will the gained insights help creating a positive business impact?\n",
        "Are there any insights that lead to negative growth? Justify with specific reason."
      ],
      "metadata": {
        "id": "qYpmQ266Yuh3"
      }
    },
    {
      "cell_type": "markdown",
      "source": [
        "Yes, the trend helps in identifying periods of strong performance and sudden downturns. The steep fall after 2018 indicates negative growth, possibly linked to financial fraud and governance issues, which affected investor confidence. This insight can guide better risk assessment and corrective action."
      ],
      "metadata": {
        "id": "_WtzZ_hCYuh4"
      }
    },
    {
      "cell_type": "markdown",
      "source": [
        "#### Chart - 6"
      ],
      "metadata": {
        "id": "OH-pJp9IphqM"
      }
    },
    {
      "cell_type": "code",
      "source": [
        "# Chart - visualization code\n",
        "# Line graph showing month-wise average closing price\n",
        "\n",
        "# Import necessary libraries for plotting\n",
        "import matplotlib.pyplot as plt\n",
        "import seaborn as sns\n",
        "\n",
        "# Calculate the average closing price per month (across all years)\n",
        "# Group by 'Month_split' and calculate the mean of 'Close'\n",
        "monthly_close_avg = df1.groupby('Month_split')['Close'].mean().reset_index()\n",
        "\n",
        "# Ensure the data is sorted by month number for a meaningful line plot\n",
        "monthly_close_avg_sorted = monthly_close_avg.sort_values(by='Month_split')\n",
        "\n",
        "# Create a figure and a set of subplots\n",
        "plt.figure(figsize=(14, 7))\n",
        "\n",
        "# Plotting the average closing price against the month number\n",
        "plt.plot(monthly_close_avg_sorted['Month_split'], monthly_close_avg_sorted['Close'], marker='o') # Added marker for clarity\n",
        "\n",
        "# Add title and labels\n",
        "plt.title('Month-wise Average Closing Price (Across All Years)')\n",
        "plt.xlabel('Month')\n",
        "plt.ylabel('Average Close Price')\n",
        "\n",
        "# Set x-axis labels to represent months (1 to 12)\n",
        "plt.xticks(range(1, 13))\n",
        "\n",
        "# Add a grid for easier reading\n",
        "plt.grid(True)\n",
        "\n",
        "# Improve layout\n",
        "plt.tight_layout()\n",
        "\n",
        "# Display the plot\n",
        "plt.show()\n"
      ],
      "metadata": {
        "id": "kuRf4wtuphqN"
      },
      "execution_count": null,
      "outputs": []
    },
    {
      "cell_type": "markdown",
      "source": [
        "##### 1. Why did you pick the specific chart?"
      ],
      "metadata": {
        "id": "bbFf2-_FphqN"
      }
    },
    {
      "cell_type": "markdown",
      "source": [
        "To identify seasonal patterns in stock prices and understand if certain months consistently perform better or worse than others."
      ],
      "metadata": {
        "id": "loh7H2nzphqN"
      }
    },
    {
      "cell_type": "markdown",
      "source": [
        "##### 2. What is/are the insight(s) found from the chart?"
      ],
      "metadata": {
        "id": "_ouA3fa0phqN"
      }
    },
    {
      "cell_type": "markdown",
      "source": [
        "The average closing price is generally higher from March to May, peaking in April. It dips significantly around September and slowly recovers toward the end of the year."
      ],
      "metadata": {
        "id": "VECbqPI7phqN"
      }
    },
    {
      "cell_type": "markdown",
      "source": [
        "##### 3. Will the gained insights help creating a positive business impact?\n",
        "Are there any insights that lead to negative growth? Justify with specific reason."
      ],
      "metadata": {
        "id": "Seke61FWphqN"
      }
    },
    {
      "cell_type": "markdown",
      "source": [
        "Yes, these trends can guide investment timing and marketing strategies. The drop in September suggests a recurring weak period, which could indicate market caution or external financial cycles, useful for managing risk and planning campaigns accordingly.![image.png](data:image/png;base64,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)"
      ],
      "metadata": {
        "id": "DW4_bGpfphqN"
      }
    },
    {
      "cell_type": "markdown",
      "source": [
        "#### Chart - 7"
      ],
      "metadata": {
        "id": "PIIx-8_IphqN"
      }
    },
    {
      "cell_type": "code",
      "source": [
        "# Chart - 7 visualization code\n",
        "# You can also create a box plot or violin plot to see the distribution of closing prices per month\n",
        "# This would show the range and variability, not just the average\n",
        "\n",
        "plt.figure(figsize=(14, 7))\n",
        "sns.boxplot(x='Month_split', y='Close', data=df1)\n",
        "plt.title('Distribution of Closing Price per Month')\n",
        "plt.xlabel('Month')\n",
        "plt.ylabel('Close Price')\n",
        "plt.xticks(range(0, 12), ['Jan', 'Feb', 'Mar', 'Apr', 'May', 'Jun', 'Jul', 'Aug', 'Sep', 'Oct', 'Nov', 'Dec']) # Label with month names\n",
        "plt.grid(True, axis='y')\n",
        "plt.tight_layout()\n",
        "plt.show()"
      ],
      "metadata": {
        "id": "lqAIGUfyphqO"
      },
      "execution_count": null,
      "outputs": []
    },
    {
      "cell_type": "markdown",
      "source": [
        "##### 1. Why did you pick the specific chart?"
      ],
      "metadata": {
        "id": "t27r6nlMphqO"
      }
    },
    {
      "cell_type": "markdown",
      "source": [
        "To compare the distribution (spread, median, outliers) of closing prices across different months."
      ],
      "metadata": {
        "id": "iv6ro40sphqO"
      }
    },
    {
      "cell_type": "markdown",
      "source": [
        "##### 2. What is/are the insight(s) found from the chart?"
      ],
      "metadata": {
        "id": "r2jJGEOYphqO"
      }
    },
    {
      "cell_type": "markdown",
      "source": [
        "Shows the trend of median closing price over time. Reveals monthly price volatility (box/whisker height) and highlights unusual high/low prices (outliers)."
      ],
      "metadata": {
        "id": "Po6ZPi4hphqO"
      }
    },
    {
      "cell_type": "markdown",
      "source": [
        "##### 3. Will the gained insights help creating a positive business impact?\n",
        "Are there any insights that lead to negative growth? Justify with specific reason."
      ],
      "metadata": {
        "id": "b0JNsNcRphqO"
      }
    },
    {
      "cell_type": "markdown",
      "source": [
        "Helps identify months that historically show higher average closing prices or lower volatility, which can inform monthly trading strategies or financial planning. Negative: Can reveal months with consistently lower prices or higher volatility (wider boxes/whiskers, more outliers), suggesting weaker periods or increased risk for that month, useful for risk management and planning for potential dips."
      ],
      "metadata": {
        "id": "xvSq8iUTphqO"
      }
    },
    {
      "cell_type": "markdown",
      "source": [
        "#### Chart - 8"
      ],
      "metadata": {
        "id": "BZR9WyysphqO"
      }
    },
    {
      "cell_type": "code",
      "source": [
        "# Chart - 8 visualization code\n",
        "# You can also create a box plot or violin plot to see the distribution of closing prices per month\n",
        "# This would show the range and variability, not just the average\n",
        "\n",
        "plt.figure(figsize=(14, 7))\n",
        "sns.boxplot(x='Year_split', y='Close', data=df1)\n",
        "plt.title('Distribution of Closing Price per Year')\n",
        "plt.xlabel('Year')\n",
        "plt.ylabel('Close Price')\n",
        "plt.xticks(range(0, 16), ['2005', '2006', '2007', '2008', '2009', '2010', '2011', '2012', '2013', '2014', '2015', '2016', '2017', '2018', '2019', '2020']) # Label with month names\n",
        "plt.grid(True, axis='y')\n",
        "plt.tight_layout()\n",
        "plt.show()"
      ],
      "metadata": {
        "id": "TdPTWpAVphqO"
      },
      "execution_count": null,
      "outputs": []
    },
    {
      "cell_type": "markdown",
      "source": [
        "##### 1. Why did you pick the specific chart?"
      ],
      "metadata": {
        "id": "jj7wYXLtphqO"
      }
    },
    {
      "cell_type": "markdown",
      "source": [
        "To compare the distribution (spread, median, outliers) of closing prices across different years, revealing how prices vary year-to-year."
      ],
      "metadata": {
        "id": "Ob8u6rCTphqO"
      }
    },
    {
      "cell_type": "markdown",
      "source": [
        "##### 2. What is/are the insight(s) found from the chart?"
      ],
      "metadata": {
        "id": "eZrbJ2SmphqO"
      }
    },
    {
      "cell_type": "markdown",
      "source": [
        "Shows the trend of median closing price over time (expected to rise then fall after 2018). Reveals yearly price volatility (box/whisker height) and highlights unusual high/low prices (outliers).\n"
      ],
      "metadata": {
        "id": "mZtgC_hjphqO"
      }
    },
    {
      "cell_type": "markdown",
      "source": [
        "##### 3. Will the gained insights help creating a positive business impact?\n",
        "Are there any insights that lead to negative growth? Justify with specific reason."
      ],
      "metadata": {
        "id": "rFu4xreNphqO"
      }
    },
    {
      "cell_type": "markdown",
      "source": [
        "Helps identify strong performance periods for investment timing. Clearly shows the price drop and negative growth after 2018, likely due to the fraud case, highlighting risk and the impact of negative events on stock value."
      ],
      "metadata": {
        "id": "ey_0qi68phqO"
      }
    },
    {
      "cell_type": "markdown",
      "source": [
        "#### Chart - 9"
      ],
      "metadata": {
        "id": "YJ55k-q6phqO"
      }
    },
    {
      "cell_type": "code",
      "source": [
        "# Chart - 9 visualization code\n",
        "df1.hist(figsize=(10, 10), bins=10)\n",
        "plt.suptitle(\"Histograms for All Columns\", fontsize=16)\n",
        "plt.show()"
      ],
      "metadata": {
        "id": "B2aS4O1ophqO"
      },
      "execution_count": null,
      "outputs": []
    },
    {
      "cell_type": "markdown",
      "source": [
        "##### 1. Why did you pick the specific chart?"
      ],
      "metadata": {
        "id": "gCFgpxoyphqP"
      }
    },
    {
      "cell_type": "markdown",
      "source": [
        "Answer Here."
      ],
      "metadata": {
        "id": "TVxDimi2phqP"
      }
    },
    {
      "cell_type": "markdown",
      "source": [
        "##### 2. What is/are the insight(s) found from the chart?"
      ],
      "metadata": {
        "id": "OVtJsKN_phqQ"
      }
    },
    {
      "cell_type": "markdown",
      "source": [
        "Answer Here"
      ],
      "metadata": {
        "id": "ngGi97qjphqQ"
      }
    },
    {
      "cell_type": "markdown",
      "source": [
        "##### 3. Will the gained insights help creating a positive business impact?\n",
        "Are there any insights that lead to negative growth? Justify with specific reason."
      ],
      "metadata": {
        "id": "lssrdh5qphqQ"
      }
    },
    {
      "cell_type": "markdown",
      "source": [
        "Answer Here"
      ],
      "metadata": {
        "id": "tBpY5ekJphqQ"
      }
    },
    {
      "cell_type": "markdown",
      "source": [
        "#### Chart - 10"
      ],
      "metadata": {
        "id": "U2RJ9gkRphqQ"
      }
    },
    {
      "cell_type": "code",
      "source": [
        "# Chart - 10 visualization code"
      ],
      "metadata": {
        "id": "GM7a4YP4phqQ"
      },
      "execution_count": null,
      "outputs": []
    },
    {
      "cell_type": "markdown",
      "source": [
        "##### 1. Why did you pick the specific chart?"
      ],
      "metadata": {
        "id": "1M8mcRywphqQ"
      }
    },
    {
      "cell_type": "markdown",
      "source": [
        "Answer Here."
      ],
      "metadata": {
        "id": "8agQvks0phqQ"
      }
    },
    {
      "cell_type": "markdown",
      "source": [
        "##### 2. What is/are the insight(s) found from the chart?"
      ],
      "metadata": {
        "id": "tgIPom80phqQ"
      }
    },
    {
      "cell_type": "markdown",
      "source": [
        "Answer Here"
      ],
      "metadata": {
        "id": "Qp13pnNzphqQ"
      }
    },
    {
      "cell_type": "markdown",
      "source": [
        "##### 3. Will the gained insights help creating a positive business impact?\n",
        "Are there any insights that lead to negative growth? Justify with specific reason."
      ],
      "metadata": {
        "id": "JMzcOPDDphqR"
      }
    },
    {
      "cell_type": "markdown",
      "source": [
        "Answer Here"
      ],
      "metadata": {
        "id": "R4Ka1PC2phqR"
      }
    },
    {
      "cell_type": "markdown",
      "source": [
        "#### Chart - 11"
      ],
      "metadata": {
        "id": "x-EpHcCOp1ci"
      }
    },
    {
      "cell_type": "code",
      "source": [
        "# Chart - 11 visualization code"
      ],
      "metadata": {
        "id": "mAQTIvtqp1cj"
      },
      "execution_count": null,
      "outputs": []
    },
    {
      "cell_type": "markdown",
      "source": [
        "##### 1. Why did you pick the specific chart?"
      ],
      "metadata": {
        "id": "X_VqEhTip1ck"
      }
    },
    {
      "cell_type": "markdown",
      "source": [
        "Answer Here."
      ],
      "metadata": {
        "id": "-vsMzt_np1ck"
      }
    },
    {
      "cell_type": "markdown",
      "source": [
        "##### 2. What is/are the insight(s) found from the chart?"
      ],
      "metadata": {
        "id": "8zGJKyg5p1ck"
      }
    },
    {
      "cell_type": "markdown",
      "source": [
        "Answer Here"
      ],
      "metadata": {
        "id": "ZYdMsrqVp1ck"
      }
    },
    {
      "cell_type": "markdown",
      "source": [
        "##### 3. Will the gained insights help creating a positive business impact?\n",
        "Are there any insights that lead to negative growth? Justify with specific reason."
      ],
      "metadata": {
        "id": "PVzmfK_Ep1ck"
      }
    },
    {
      "cell_type": "markdown",
      "source": [
        "Answer Here"
      ],
      "metadata": {
        "id": "druuKYZpp1ck"
      }
    },
    {
      "cell_type": "markdown",
      "source": [
        "#### Chart - 12"
      ],
      "metadata": {
        "id": "n3dbpmDWp1ck"
      }
    },
    {
      "cell_type": "code",
      "source": [
        "# Chart - 12 visualization code"
      ],
      "metadata": {
        "id": "bwevp1tKp1ck"
      },
      "execution_count": null,
      "outputs": []
    },
    {
      "cell_type": "markdown",
      "source": [
        "##### 1. Why did you pick the specific chart?"
      ],
      "metadata": {
        "id": "ylSl6qgtp1ck"
      }
    },
    {
      "cell_type": "markdown",
      "source": [
        "Answer Here."
      ],
      "metadata": {
        "id": "m2xqNkiQp1ck"
      }
    },
    {
      "cell_type": "markdown",
      "source": [
        "##### 2. What is/are the insight(s) found from the chart?"
      ],
      "metadata": {
        "id": "ZWILFDl5p1ck"
      }
    },
    {
      "cell_type": "markdown",
      "source": [
        "Answer Here"
      ],
      "metadata": {
        "id": "x-lUsV2mp1ck"
      }
    },
    {
      "cell_type": "markdown",
      "source": [
        "##### 3. Will the gained insights help creating a positive business impact?\n",
        "Are there any insights that lead to negative growth? Justify with specific reason."
      ],
      "metadata": {
        "id": "M7G43BXep1ck"
      }
    },
    {
      "cell_type": "markdown",
      "source": [
        "Answer Here"
      ],
      "metadata": {
        "id": "5wwDJXsLp1cl"
      }
    },
    {
      "cell_type": "markdown",
      "source": [
        "#### Chart - 13"
      ],
      "metadata": {
        "id": "Ag9LCva-p1cl"
      }
    },
    {
      "cell_type": "code",
      "source": [
        "# Chart - 13 visualization code"
      ],
      "metadata": {
        "id": "EUfxeq9-p1cl"
      },
      "execution_count": null,
      "outputs": []
    },
    {
      "cell_type": "markdown",
      "source": [
        "##### 1. Why did you pick the specific chart?"
      ],
      "metadata": {
        "id": "E6MkPsBcp1cl"
      }
    },
    {
      "cell_type": "markdown",
      "source": [
        "Answer Here."
      ],
      "metadata": {
        "id": "V22bRsFWp1cl"
      }
    },
    {
      "cell_type": "markdown",
      "source": [
        "##### 2. What is/are the insight(s) found from the chart?"
      ],
      "metadata": {
        "id": "2cELzS2fp1cl"
      }
    },
    {
      "cell_type": "markdown",
      "source": [
        "Answer Here"
      ],
      "metadata": {
        "id": "ozQPc2_Ip1cl"
      }
    },
    {
      "cell_type": "markdown",
      "source": [
        "##### 3. Will the gained insights help creating a positive business impact?\n",
        "Are there any insights that lead to negative growth? Justify with specific reason."
      ],
      "metadata": {
        "id": "3MPXvC8up1cl"
      }
    },
    {
      "cell_type": "markdown",
      "source": [
        "Answer Here"
      ],
      "metadata": {
        "id": "GL8l1tdLp1cl"
      }
    },
    {
      "cell_type": "markdown",
      "source": [
        "#### Chart - 14 - Correlation Heatmap"
      ],
      "metadata": {
        "id": "NC_X3p0fY2L0"
      }
    },
    {
      "cell_type": "code",
      "source": [
        "# Correlation Heatmap visualization code\n",
        "corr_matrix = df1.corr()\n",
        "plt.figure(figsize=(10, 5))\n",
        "sns.heatmap(corr_matrix, annot=True, cmap=\"coolwarm\")\n",
        "plt.show()"
      ],
      "metadata": {
        "id": "xyC9zolEZNRQ"
      },
      "execution_count": null,
      "outputs": []
    },
    {
      "cell_type": "markdown",
      "source": [
        "##### 1. Why did you pick the specific chart?"
      ],
      "metadata": {
        "id": "UV0SzAkaZNRQ"
      }
    },
    {
      "cell_type": "markdown",
      "source": [
        "A correlational matrix plot was generated as it shows correlation between different variables in a dataset."
      ],
      "metadata": {
        "id": "DVPuT8LYZNRQ"
      }
    },
    {
      "cell_type": "markdown",
      "source": [
        "##### 2. What is/are the insight(s) found from the chart?"
      ],
      "metadata": {
        "id": "YPEH6qLeZNRQ"
      }
    },
    {
      "cell_type": "markdown",
      "source": [
        "The close price is highly co-related with Open, High and Low prices (close to 1)."
      ],
      "metadata": {
        "id": "bfSqtnDqZNRR"
      }
    },
    {
      "cell_type": "markdown",
      "source": [
        "#### Chart - 15 - Pair Plot"
      ],
      "metadata": {
        "id": "q29F0dvdveiT"
      }
    },
    {
      "cell_type": "code",
      "source": [
        "# Pair Plot visualization code\n",
        "sns.pairplot(df1)\n",
        "plt.show()"
      ],
      "metadata": {
        "id": "o58-TEIhveiU"
      },
      "execution_count": null,
      "outputs": []
    },
    {
      "cell_type": "markdown",
      "source": [
        "##### 1. Why did you pick the specific chart?"
      ],
      "metadata": {
        "id": "EXh0U9oCveiU"
      }
    },
    {
      "cell_type": "markdown",
      "source": [
        "The Pair Plot provides a visual matrix of scatter plots for all pairs of numerical variables and histograms for individual variables. It's chosen to quickly understand the distribution of each variable and the pairwise relationships (correlations) between features in the dataset."
      ],
      "metadata": {
        "id": "eMmPjTByveiU"
      }
    },
    {
      "cell_type": "markdown",
      "source": [
        "##### 2. What is/are the insight(s) found from the chart?"
      ],
      "metadata": {
        "id": "22aHeOlLveiV"
      }
    },
    {
      "cell_type": "markdown",
      "source": [
        "-Strong positive correlations among 'Open', 'High', 'Low', and 'Close' prices. <br>\n",
        "-The overall trend of prices over time when plotted against 'Date_integer'/'Year_split', showing an increase followed by a sharp decrease. <br>\n",
        "-The distribution shape of each numerical variable.<br>\n",
        "-Possible seasonal patterns when prices are plotted against 'Month_split'.\n",
        "\n",
        "\n"
      ],
      "metadata": {
        "id": "uPQ8RGwHveiV"
      }
    },
    {
      "cell_type": "markdown",
      "source": [
        "## ***5. Hypothesis Testing***"
      ],
      "metadata": {
        "id": "g-ATYxFrGrvw"
      }
    },
    {
      "cell_type": "markdown",
      "source": [
        "### Based on your chart experiments, define three hypothetical statements from the dataset. In the next three questions, perform hypothesis testing to obtain final conclusion about the statements through your code and statistical testing."
      ],
      "metadata": {
        "id": "Yfr_Vlr8HBkt"
      }
    },
    {
      "cell_type": "markdown",
      "source": [
        "Answer Here."
      ],
      "metadata": {
        "id": "-7MS06SUHkB-"
      }
    },
    {
      "cell_type": "markdown",
      "source": [
        "### Hypothetical Statement - 1"
      ],
      "metadata": {
        "id": "8yEUt7NnHlrM"
      }
    },
    {
      "cell_type": "markdown",
      "source": [
        "#### 1. State Your research hypothesis as a null hypothesis and alternate hypothesis."
      ],
      "metadata": {
        "id": "tEA2Xm5dHt1r"
      }
    },
    {
      "cell_type": "markdown",
      "source": [
        "The daily range of stock prices (High - Low) is significantly correlated with the closing price of the stock. A larger daily price range might indicate higher volatility, which could be related to larger movements in the closing price."
      ],
      "metadata": {
        "id": "HI9ZP0laH0D-"
      }
    },
    {
      "cell_type": "markdown",
      "source": [
        "#### 2. Perform an appropriate statistical test."
      ],
      "metadata": {
        "id": "I79__PHVH19G"
      }
    },
    {
      "cell_type": "code",
      "source": [
        "# Perform Statistical Test to obtain P-Value\n",
        "# Perform Statistical Test to obtain P-Value\n",
        "\n",
        "import pandas as pd\n",
        "from scipy.stats import pearsonr\n",
        "import numpy as np # Import numpy for creating the price range\n",
        "\n",
        "# Assuming df1 DataFrame is loaded and contains 'High', 'Low', and 'Close' columns\n",
        "\n",
        "# Calculate the daily price range\n",
        "df1['Price_Range'] = df1['High'] - df1['Low']\n",
        "\n",
        "# Perform Pearson correlation test between Price_Range and Close\n",
        "# pearsonr returns the Pearson correlation coefficient and the 2-tailed p-value\n",
        "correlation_coefficient, p_value = pearsonr(df1['Price_Range'], df1['Close'])\n",
        "\n",
        "print(f\"Pearson Correlation Coefficient between Daily Price Range and Close Price: {correlation_coefficient:.4f}\")\n",
        "print(f\"P-value: {p_value:.4f}\")\n",
        "\n",
        "# Define significance level (commonly 0.05)\n",
        "alpha = 0.05\n",
        "\n",
        "# Interpret the results\n",
        "if p_value < alpha:\n",
        "    print(\"\\nResult: Reject the null hypothesis.\")\n",
        "    print(\"Conclusion: There is a statistically significant correlation between the daily price range and the closing price.\")\n",
        "else:\n",
        "    print(\"\\nResult: Fail to reject the null hypothesis.\")\n",
        "    print(\"Conclusion: There is no statistically significant correlation between the daily price range and the closing price.\")"
      ],
      "metadata": {
        "id": "oZrfquKtyian"
      },
      "execution_count": null,
      "outputs": []
    },
    {
      "cell_type": "markdown",
      "source": [
        "##### Which statistical test have you done to obtain P-Value?"
      ],
      "metadata": {
        "id": "Ou-I18pAyIpj"
      }
    },
    {
      "cell_type": "markdown",
      "source": [
        "Test for Pearson's Correlation Coefficient."
      ],
      "metadata": {
        "id": "s2U0kk00ygSB"
      }
    },
    {
      "cell_type": "markdown",
      "source": [
        "##### Why did you choose the specific statistical test?"
      ],
      "metadata": {
        "id": "fF3858GYyt-u"
      }
    },
    {
      "cell_type": "markdown",
      "source": [
        "Since this test is used to calculate the degree of correlation between variables."
      ],
      "metadata": {
        "id": "HO4K0gP5y3B4"
      }
    },
    {
      "cell_type": "markdown",
      "source": [
        "### Hypothetical Statement - 2"
      ],
      "metadata": {
        "id": "4_0_7-oCpUZd"
      }
    },
    {
      "cell_type": "markdown",
      "source": [
        "#### 1. State Your research hypothesis as a null hypothesis and alternate hypothesis."
      ],
      "metadata": {
        "id": "hwyV_J3ipUZe"
      }
    },
    {
      "cell_type": "markdown",
      "source": [
        "The average closing price of the stock is significantly different in certain months compared to the overall yearly average. Specifically, we could test if there are statistically significant differences in average closing prices between different months.\n",
        "\n"
      ],
      "metadata": {
        "id": "FnpLGJ-4pUZe"
      }
    },
    {
      "cell_type": "markdown",
      "source": [
        "#### 2. Perform an appropriate statistical test."
      ],
      "metadata": {
        "id": "3yB-zSqbpUZe"
      }
    },
    {
      "cell_type": "code",
      "source": [
        "# Perform Statistical Test to obtain P-Value\n",
        "# Perform Statistical Test to obtain P-Value\n",
        "\n",
        "import pandas as pd\n",
        "from scipy.stats import f_oneway\n",
        "\n",
        "# Assuming df1 DataFrame is loaded and contains 'Close' and 'Month_split' columns\n",
        "\n",
        "# Group the closing prices by month\n",
        "# Create a list where each element is a list of closing prices for a specific month\n",
        "monthly_close_prices = [df1['Close'][df1['Month_split'] == month] for month in sorted(df1['Month_split'].unique())]\n",
        "\n",
        "# Perform One-Way ANOVA test\n",
        "# f_oneway takes multiple arrays/series as arguments, one for each group\n",
        "f_statistic, p_value = f_oneway(*monthly_close_prices)\n",
        "\n",
        "print(f\"One-Way ANOVA F-statistic: {f_statistic:.4f}\")\n",
        "print(f\"P-value: {p_value:.4f}\")\n",
        "\n",
        "# Define significance level (commonly 0.05)\n",
        "alpha = 0.05\n",
        "\n",
        "# Interpret the results\n",
        "if p_value < alpha:\n",
        "    print(\"\\nResult: Reject the null hypothesis.\")\n",
        "    print(\"Conclusion: There is a statistically significant difference in the average closing price across different months.\")\n",
        "    print(\"Further post-hoc tests would be needed to determine which specific months differ.\")\n",
        "else:\n",
        "    print(\"\\nResult: Fail to reject the null hypothesis.\")\n",
        "    print(\"Conclusion: There is no statistically significant difference in the average closing price across different months.\")"
      ],
      "metadata": {
        "id": "sWxdNTXNpUZe"
      },
      "execution_count": null,
      "outputs": []
    },
    {
      "cell_type": "markdown",
      "source": [
        "##### Which statistical test have you done to obtain P-Value?"
      ],
      "metadata": {
        "id": "dEUvejAfpUZe"
      }
    },
    {
      "cell_type": "markdown",
      "source": [
        "One-way Analysis of Variance (ANOVA)."
      ],
      "metadata": {
        "id": "oLDrPz7HpUZf"
      }
    },
    {
      "cell_type": "markdown",
      "source": [
        "##### Why did you choose the specific statistical test?"
      ],
      "metadata": {
        "id": "Fd15vwWVpUZf"
      }
    },
    {
      "cell_type": "markdown",
      "source": [
        "Because this test checks for statistical significance between the means (averages) of 3 or more independent variables."
      ],
      "metadata": {
        "id": "4xOGYyiBpUZf"
      }
    },
    {
      "cell_type": "markdown",
      "source": [
        "### Hypothetical Statement - 3"
      ],
      "metadata": {
        "id": "bn_IUdTipZyH"
      }
    },
    {
      "cell_type": "markdown",
      "source": [
        "#### 1. State Your research hypothesis as a null hypothesis and alternate hypothesis."
      ],
      "metadata": {
        "id": "49K5P_iCpZyH"
      }
    },
    {
      "cell_type": "markdown",
      "source": [
        "There is a significant increasing or decreasing trend in the average annual closing price of the stock over the period covered by the dataset. We could test if the slope of a linear regression line fitted to the average annual closing prices is statistically different from zero."
      ],
      "metadata": {
        "id": "7gWI5rT9pZyH"
      }
    },
    {
      "cell_type": "markdown",
      "source": [
        "#### 2. Perform an appropriate statistical test.\n"
      ],
      "metadata": {
        "id": "Nff-vKELpZyI"
      }
    },
    {
      "cell_type": "code",
      "source": [
        "# Perform Statistical Test to obtain P-Value\n",
        "# Perform Statistical Test to obtain P-Value\n",
        "\n",
        "import pandas as pd\n",
        "from scipy.stats import linregress\n",
        "import matplotlib.pyplot as plt\n",
        "import seaborn as sns\n",
        "\n",
        "# Assuming df1 DataFrame is loaded and contains 'Close' and 'Year_split' columns\n",
        "\n",
        "# Calculate the average closing price per year\n",
        "yearly_close_avg = df1.groupby('Year_split')['Close'].mean().reset_index()\n",
        "\n",
        "# Ensure the data is sorted by year\n",
        "yearly_close_avg_sorted = yearly_close_avg.sort_values(by='Year_split')\n",
        "\n",
        "# Perform Linear Regression\n",
        "# We regress the average annual closing price (dependent variable) on the Year (independent variable)\n",
        "slope, intercept, r_value, p_value, std_err = linregress(yearly_close_avg_sorted['Year_split'], yearly_close_avg_sorted['Close'])\n",
        "\n",
        "print(f\"Slope of the linear trend: {slope:.4f}\")\n",
        "print(f\"Intercept: {intercept:.4f}\")\n",
        "print(f\"R-value (Correlation Coefficient): {r_value:.4f}\")\n",
        "print(f\"P-value for the slope: {p_value:.4f}\")\n",
        "print(f\"Standard Error of the slope: {std_err:.4f}\")\n",
        "\n",
        "# Define significance level (commonly 0.05)\n",
        "alpha = 0.05\n",
        "\n",
        "# Interpret the results\n",
        "if p_value < alpha:\n",
        "    print(\"\\nResult: Reject the null hypothesis.\")\n",
        "    print(\"Conclusion: There is a statistically significant linear trend in the average annual closing price over the years.\")\n",
        "    if slope > 0:\n",
        "        print(\"The trend is increasing.\")\n",
        "    else:\n",
        "        print(\"The trend is decreasing.\")\n",
        "else:\n",
        "    print(\"\\nResult: Fail to reject the null hypothesis.\")\n",
        "    print(\"Conclusion: There is no statistically significant linear trend in the average annual closing price over the years.\")\n",
        "\n",
        "# Optional: Plot the data and the regression line to visualize the trend\n",
        "plt.figure(figsize=(10, 6))\n",
        "sns.scatterplot(x='Year_split', y='Close', data=yearly_close_avg_sorted, label='Average Annual Close Price')\n",
        "plt.plot(yearly_close_avg_sorted['Year_split'], intercept + slope * yearly_close_avg_sorted['Year_split'], color='red', label=f'Linear Trend (Slope: {slope:.2f})')\n",
        "plt.title('Linear Trend of Average Annual Closing Price')\n",
        "plt.xlabel('Year')\n",
        "plt.ylabel('Average Close Price')\n",
        "plt.xticks(yearly_close_avg_sorted['Year_split'], rotation=45) # Set x-ticks to actual years\n",
        "plt.grid(True)\n",
        "plt.legend()\n",
        "plt.tight_layout()\n",
        "plt.show()"
      ],
      "metadata": {
        "id": "s6AnJQjtpZyI"
      },
      "execution_count": null,
      "outputs": []
    },
    {
      "cell_type": "markdown",
      "source": [
        "##### Which statistical test have you done to obtain P-Value?"
      ],
      "metadata": {
        "id": "kLW572S8pZyI"
      }
    },
    {
      "cell_type": "markdown",
      "source": [
        "Linear regression."
      ],
      "metadata": {
        "id": "ytWJ8v15pZyI"
      }
    },
    {
      "cell_type": "markdown",
      "source": [
        "##### Why did you choose the specific statistical test?"
      ],
      "metadata": {
        "id": "dWbDXHzopZyI"
      }
    },
    {
      "cell_type": "markdown",
      "source": [
        "As this test shows whether or not there is an increasing trend in average closing annual price."
      ],
      "metadata": {
        "id": "M99G98V6pZyI"
      }
    },
    {
      "cell_type": "markdown",
      "source": [
        "## ***6. Feature Engineering & Data Pre-processing***"
      ],
      "metadata": {
        "id": "yLjJCtPM0KBk"
      }
    },
    {
      "cell_type": "markdown",
      "source": [
        "### 1. Handling Missing Values"
      ],
      "metadata": {
        "id": "xiyOF9F70UgQ"
      }
    },
    {
      "cell_type": "code",
      "source": [
        "# Handling Missing Values & Missing Value Imputation\n",
        "# Missing Values/Null Values Count\n",
        "print(\"Missing values count per column:\")\n",
        "print(df1.isnull().sum())"
      ],
      "metadata": {
        "id": "iRsAHk1K0fpS"
      },
      "execution_count": null,
      "outputs": []
    },
    {
      "cell_type": "markdown",
      "source": [
        "#### What all missing value imputation techniques have you used and why did you use those techniques?"
      ],
      "metadata": {
        "id": "7wuGOrhz0itI"
      }
    },
    {
      "cell_type": "markdown",
      "source": [
        "Usually mean, median, mode imputations are used, or the missing value records are simply dropped. No missing values are present in this dataset, so no need of imputation."
      ],
      "metadata": {
        "id": "1ixusLtI0pqI"
      }
    },
    {
      "cell_type": "markdown",
      "source": [
        "### 2. Handling Outliers"
      ],
      "metadata": {
        "id": "id1riN9m0vUs"
      }
    },
    {
      "cell_type": "code",
      "source": [
        "# Handling Outliers & Outlier treatments\n",
        "import pandas as pd\n",
        "import numpy as np\n",
        "\n",
        "# List of numerical columns to check for outliers\n",
        "# Assuming 'Open', 'High', 'Low', 'Close', 'Price_Range' are numerical\n",
        "numerical_cols = ['Open', 'High', 'Low', 'Close', 'Price_Range'] # Add other numerical columns if any\n",
        "\n",
        "# Dictionary to store outliers for each column\n",
        "outliers_dict = {}\n",
        "\n",
        "# Iterate through each numerical column\n",
        "for col in numerical_cols:\n",
        "    print(f\"\\nChecking outliers for column: {col}\")\n",
        "\n",
        "    # Calculate Q1 (25th percentile) and Q3 (75th percentile)\n",
        "    Q1 = df1[col].quantile(0.25)\n",
        "    Q3 = df1[col].quantile(0.75)\n",
        "\n",
        "    # Calculate the Interquartile Range (IQR)\n",
        "    IQR = Q3 - Q1\n",
        "\n",
        "    # Define the lower and upper bounds for outliers\n",
        "    lower_bound = Q1 - 1.5 * IQR\n",
        "    upper_bound = Q3 + 1.5 * IQR\n",
        "\n",
        "    # Identify outliers\n",
        "    # Values below lower_bound or above upper_bound are considered outliers\n",
        "    outliers = df1[(df1[col] < lower_bound) | (df1[col] > upper_bound)]\n",
        "\n",
        "    # Store the outliers\n",
        "    outliers_dict[col] = outliers\n",
        "\n",
        "    # Print information about the outliers\n",
        "    print(f\"  Q1: {Q1:.4f}\")\n",
        "    print(f\"  Q3: {Q3:.4f}\")\n",
        "    print(f\"  IQR: {IQR:.4f}\")\n",
        "    print(f\"  Lower Bound: {lower_bound:.4f}\")\n",
        "    print(f\"  Upper Bound: {upper_bound:.4f}\")\n",
        "    print(f\"  Number of outliers detected: {len(outliers)}\")\n",
        "\n",
        "    # Display the outlier rows (optional)\n",
        "    # print(\"  Outlier rows:\")\n",
        "    # print(outliers)\n",
        "\n",
        "\n",
        "# You can access the identified outliers for a specific column like this:\n",
        "# print(\"\\nOutliers in 'Close' column:\")\n",
        "# print(outliers_dict['Close'])\n",
        "\n",
        "# You could also visualize outliers using box plots (as you did in your EDA)\n",
        "import matplotlib.pyplot as plt\n",
        "import seaborn as sns\n",
        "\n",
        "print(\"\\nVisualizing outliers with Box Plots:\")\n",
        "for col in numerical_cols:\n",
        "    plt.figure(figsize=(8, 5))\n",
        "    sns.boxplot(x=df1[col])\n",
        "    plt.title(f'Box Plot of {col}')\n",
        "    plt.xlabel(col)\n",
        "    plt.show()\n",
        "\n",
        "# Outlier Treatment: Winsorizing (Capping)\n",
        "\n",
        "import pandas as pd\n",
        "import numpy as np\n",
        "from scipy.stats.mstats import winsorize # Import winsorize\n",
        "\n",
        "# List of numerical columns to apply outlier treatment\n",
        "numerical_cols_to_treat = ['Open', 'High', 'Low', 'Close', 'Price_Range'] # Select columns you want to treat\n",
        "\n",
        "# Define the limits for winsorizing (e.g., 5% from the lower and upper tails)\n",
        "# limits=(lower_tail_proportion, upper_tail_proportion)\n",
        "winsor_limits = (0.05, 0.05) # This will cap values below 5th percentile and above 95th percentile\n",
        "\n",
        "# Create a copy of the DataFrame to apply treatments, so the original df1 is preserved\n",
        "df1_treated_winsor = df1.copy()\n",
        "\n",
        "print(\"Applying Winsorizing treatment...\")\n",
        "\n",
        "# Apply winsorize to the selected numerical columns\n",
        "for col in numerical_cols_to_treat:\n",
        "    if col in df1_treated_winsor.columns: # Check if column exists\n",
        "        try:\n",
        "            # Winsorize the column\n",
        "            df1_treated_winsor[col] = winsorize(df1_treated_winsor[col], limits=winsor_limits)\n",
        "            print(f\"  Winsorized column: {col}\")\n",
        "        except Exception as e:\n",
        "            print(f\"  Could not winsorize column {col}: {e}\")\n",
        "    else:\n",
        "        print(f\"  Column {col} not found in DataFrame.\")\n",
        "\n",
        "\n",
        "print(\"\\nFirst 5 rows of DataFrame after Winsorizing:\")\n",
        "print(df1_treated_winsor.head())\n",
        "print(\"\\nLast 5 rows of DataFrame after Winsorizing:\")\n",
        "print(df1_treated_winsor.tail())\n",
        "\n",
        "# You can also visualize the data after winsorizing using box plots to see the effect\n",
        "import matplotlib.pyplot as plt\n",
        "import seaborn as sns\n",
        "\n",
        "print(\"\\nVisualizing columns after Winsorizing with Box Plots:\")\n",
        "for col in numerical_cols_to_treat:\n",
        "     if col in df1_treated_winsor.columns:\n",
        "        plt.figure(figsize=(8, 5))\n",
        "        sns.boxplot(x=df1_treated_winsor[col])\n",
        "        plt.title(f'Box Plot of {col} (Winsorized)')\n",
        "        plt.xlabel(col)\n",
        "        plt.show()"
      ],
      "metadata": {
        "id": "M6w2CzZf04JK"
      },
      "execution_count": null,
      "outputs": []
    },
    {
      "cell_type": "markdown",
      "source": [
        "##### What all outlier treatment techniques have you used and why did you use those techniques?"
      ],
      "metadata": {
        "id": "578E2V7j08f6"
      }
    },
    {
      "cell_type": "markdown",
      "source": [
        "The Interquartile Range (IQR) method was used for identifying outliers. Winsorizing was used as outlier treatment to reduce the influence of extreme values without losing data points entirely. This approach caps the most extreme values at a certain percentile (5% here), preserving the overall structure of the dataset."
      ],
      "metadata": {
        "id": "uGZz5OrT1HH-"
      }
    },
    {
      "cell_type": "markdown",
      "source": [
        "### 3. Categorical Encoding"
      ],
      "metadata": {
        "id": "89xtkJwZ18nB"
      }
    },
    {
      "cell_type": "code",
      "source": [
        "# Encode your categorical columns\n",
        "# display data type of all columns\n",
        "print(df1.dtypes)"
      ],
      "metadata": {
        "id": "21JmIYMG2hEo"
      },
      "execution_count": null,
      "outputs": []
    },
    {
      "cell_type": "markdown",
      "source": [
        "#### What all categorical encoding techniques have you used & why did you use those techniques?"
      ],
      "metadata": {
        "id": "67NQN5KX2AMe"
      }
    },
    {
      "cell_type": "markdown",
      "source": [
        "Since all values are of numerical type and no categorical column exists, this step is not required."
      ],
      "metadata": {
        "id": "UDaue5h32n_G"
      }
    },
    {
      "cell_type": "markdown",
      "source": [
        "### 4. Textual Data Preprocessing\n",
        "(It's mandatory for textual dataset i.e., NLP, Sentiment Analysis, Text Clustering etc.)"
      ],
      "metadata": {
        "id": "Iwf50b-R2tYG"
      }
    },
    {
      "cell_type": "markdown",
      "source": [
        "#### 1. Expand Contraction"
      ],
      "metadata": {
        "id": "GMQiZwjn3iu7"
      }
    },
    {
      "cell_type": "code",
      "source": [
        "# Expand Contraction"
      ],
      "metadata": {
        "id": "PTouz10C3oNN"
      },
      "execution_count": null,
      "outputs": []
    },
    {
      "cell_type": "markdown",
      "source": [
        "#### 2. Lower Casing"
      ],
      "metadata": {
        "id": "WVIkgGqN3qsr"
      }
    },
    {
      "cell_type": "code",
      "source": [
        "# Lower Casing"
      ],
      "metadata": {
        "id": "88JnJ1jN3w7j"
      },
      "execution_count": null,
      "outputs": []
    },
    {
      "cell_type": "markdown",
      "source": [
        "#### 3. Removing Punctuations"
      ],
      "metadata": {
        "id": "XkPnILGE3zoT"
      }
    },
    {
      "cell_type": "code",
      "source": [
        "# Remove Punctuations"
      ],
      "metadata": {
        "id": "vqbBqNaA33c0"
      },
      "execution_count": null,
      "outputs": []
    },
    {
      "cell_type": "markdown",
      "source": [
        "#### 4. Removing URLs & Removing words and digits contain digits."
      ],
      "metadata": {
        "id": "Hlsf0x5436Go"
      }
    },
    {
      "cell_type": "code",
      "source": [
        "# Remove URLs & Remove words and digits contain digits"
      ],
      "metadata": {
        "id": "2sxKgKxu4Ip3"
      },
      "execution_count": null,
      "outputs": []
    },
    {
      "cell_type": "markdown",
      "source": [
        "#### 5. Removing Stopwords & Removing White spaces"
      ],
      "metadata": {
        "id": "mT9DMSJo4nBL"
      }
    },
    {
      "cell_type": "code",
      "source": [
        "# Remove Stopwords"
      ],
      "metadata": {
        "id": "T2LSJh154s8W"
      },
      "execution_count": null,
      "outputs": []
    },
    {
      "cell_type": "code",
      "source": [
        "# Remove White spaces"
      ],
      "metadata": {
        "id": "EgLJGffy4vm0"
      },
      "execution_count": null,
      "outputs": []
    },
    {
      "cell_type": "markdown",
      "source": [
        "#### 6. Rephrase Text"
      ],
      "metadata": {
        "id": "c49ITxTc407N"
      }
    },
    {
      "cell_type": "code",
      "source": [
        "# Rephrase Text"
      ],
      "metadata": {
        "id": "foqY80Qu48N2"
      },
      "execution_count": null,
      "outputs": []
    },
    {
      "cell_type": "markdown",
      "source": [
        "#### 7. Tokenization"
      ],
      "metadata": {
        "id": "OeJFEK0N496M"
      }
    },
    {
      "cell_type": "code",
      "source": [
        "# Tokenization"
      ],
      "metadata": {
        "id": "ijx1rUOS5CUU"
      },
      "execution_count": null,
      "outputs": []
    },
    {
      "cell_type": "markdown",
      "source": [
        "#### 8. Text Normalization"
      ],
      "metadata": {
        "id": "9ExmJH0g5HBk"
      }
    },
    {
      "cell_type": "code",
      "source": [
        "# Normalizing Text (i.e., Stemming, Lemmatization etc.)"
      ],
      "metadata": {
        "id": "AIJ1a-Zc5PY8"
      },
      "execution_count": null,
      "outputs": []
    },
    {
      "cell_type": "markdown",
      "source": [
        "##### Which text normalization technique have you used and why?"
      ],
      "metadata": {
        "id": "cJNqERVU536h"
      }
    },
    {
      "cell_type": "markdown",
      "source": [
        "Answer Here."
      ],
      "metadata": {
        "id": "Z9jKVxE06BC1"
      }
    },
    {
      "cell_type": "markdown",
      "source": [
        "#### 9. Part of speech tagging"
      ],
      "metadata": {
        "id": "k5UmGsbsOxih"
      }
    },
    {
      "cell_type": "code",
      "source": [
        "# POS Taging"
      ],
      "metadata": {
        "id": "btT3ZJBAO6Ik"
      },
      "execution_count": null,
      "outputs": []
    },
    {
      "cell_type": "markdown",
      "source": [
        "#### 10. Text Vectorization"
      ],
      "metadata": {
        "id": "T0VqWOYE6DLQ"
      }
    },
    {
      "cell_type": "code",
      "source": [
        "# Vectorizing Text"
      ],
      "metadata": {
        "id": "yBRtdhth6JDE"
      },
      "execution_count": null,
      "outputs": []
    },
    {
      "cell_type": "markdown",
      "source": [
        "##### Which text vectorization technique have you used and why?"
      ],
      "metadata": {
        "id": "qBMux9mC6MCf"
      }
    },
    {
      "cell_type": "markdown",
      "source": [
        "Answer Here."
      ],
      "metadata": {
        "id": "su2EnbCh6UKQ"
      }
    },
    {
      "cell_type": "markdown",
      "source": [
        "### 4. Feature Manipulation & Selection"
      ],
      "metadata": {
        "id": "-oLEiFgy-5Pf"
      }
    },
    {
      "cell_type": "markdown",
      "source": [
        "#### 1. Feature Manipulation"
      ],
      "metadata": {
        "id": "C74aWNz2AliB"
      }
    },
    {
      "cell_type": "code",
      "source": [
        "# Manipulate Features to minimize feature correlation and create new features\n",
        "# Example: Create a lagged Close price feature\n",
        "df1['Close_Lag1'] = df1['Close'].shift(1)\n",
        "\n",
        "# You might want to fill the resulting NaN in the first row\n",
        "# For example, fill with the first available value or 0\n",
        "df1['Close_Lag1'].fillna(method='bfill', inplace=True) # Backward fill\n",
        "\n",
        "# Similarly for other features\n",
        "df1['Open_Lag1'] = df1['Open'].shift(1)\n",
        "df1['Open_Lag1'].fillna(method='bfill', inplace=True)\n",
        "\n",
        "# You can create lags of different periods (e.g., 5-day lag, 30-day lag)\n",
        "# df1['Close_Lag5'] = df1['Close'].shift(5)\n",
        "# df1['Close_Lag5'].fillna(method='bfill', inplace=True)"
      ],
      "metadata": {
        "id": "h1qC4yhBApWC"
      },
      "execution_count": null,
      "outputs": []
    },
    {
      "cell_type": "markdown",
      "source": [
        "#### 2. Feature Selection"
      ],
      "metadata": {
        "id": "2DejudWSA-a0"
      }
    },
    {
      "cell_type": "code",
      "source": [
        "# Select your features wisely to avoid overfitting\n",
        "# Select your features wisely to avoid overfitting\n",
        "\n",
        "# Assuming df1 is your DataFrame and it contains 'Open', 'High', 'Low', and 'Close'\n",
        "\n",
        "# Define the features (X) - Open, High, Low\n",
        "features = ['Open', 'High', 'Low']\n",
        "X = df1[features]\n",
        "\n",
        "# Define the target variable (y) - Close\n",
        "target = 'Close'\n",
        "y = df1[target]\n",
        "\n",
        "# You can verify the shapes of X and y\n",
        "print(\"Shape of X (features):\", X.shape)\n",
        "print(\"Shape of y (target):\", y.shape)\n",
        "\n",
        "# Display the first few rows of X and y to confirm\n",
        "print(\"\\nFirst 5 rows of X (features):\")\n",
        "print(X.head())\n",
        "\n",
        "print(\"\\nFirst 5 rows of y (target):\")\n",
        "print(y.head())\n",
        "\n",
        "# Note: This code creates X and y as new DataFrames/Series.\n",
        "# It does NOT modify the original df1 by dropping columns.\n",
        "# If you specifically need to drop columns from df1 itself after this step,\n",
        "# you would do that separately, but it's usually better to create X and y\n",
        "# by selecting the desired columns as shown above, leaving df1 intact\n",
        "# for potential future analysis or feature engineering."
      ],
      "metadata": {
        "id": "YLhe8UmaBCEE"
      },
      "execution_count": null,
      "outputs": []
    },
    {
      "cell_type": "markdown",
      "source": [
        "##### What all feature selection methods have you used  and why?"
      ],
      "metadata": {
        "id": "pEMng2IbBLp7"
      }
    },
    {
      "cell_type": "markdown",
      "source": [
        "Based on degree of correlation."
      ],
      "metadata": {
        "id": "rb2Lh6Z8BgGs"
      }
    },
    {
      "cell_type": "markdown",
      "source": [
        "##### Which all features you found important and why?"
      ],
      "metadata": {
        "id": "rAdphbQ9Bhjc"
      }
    },
    {
      "cell_type": "markdown",
      "source": [
        "Open, High and Low prices had correlation with Closing price. So, these are used for close price prediction."
      ],
      "metadata": {
        "id": "fGgaEstsBnaf"
      }
    },
    {
      "cell_type": "markdown",
      "source": [
        "### 5. Data Transformation"
      ],
      "metadata": {
        "id": "TNVZ9zx19K6k"
      }
    },
    {
      "cell_type": "markdown",
      "source": [
        "#### Do you think that your data needs to be transformed? If yes, which transformation have you used. Explain Why?"
      ],
      "metadata": {
        "id": "nqoHp30x9hH9"
      }
    },
    {
      "cell_type": "code",
      "source": [
        "# Transform Your data"
      ],
      "metadata": {
        "id": "I6quWQ1T9rtH"
      },
      "execution_count": null,
      "outputs": []
    },
    {
      "cell_type": "markdown",
      "source": [
        "### 6. Data Scaling"
      ],
      "metadata": {
        "id": "rMDnDkt2B6du"
      }
    },
    {
      "cell_type": "code",
      "source": [
        "# Scaling your data\n",
        "from sklearn.preprocessing import StandardScaler\n",
        "\n",
        "scaler = StandardScaler()\n",
        "sc = ['Open', 'High', 'Low', 'Close']\n",
        "df1[sc] = scaler.fit_transform(df1[sc])\n",
        "print(df1.head())"
      ],
      "metadata": {
        "id": "dL9LWpySC6x_"
      },
      "execution_count": null,
      "outputs": []
    },
    {
      "cell_type": "markdown",
      "source": [
        "##### Which method have you used to scale you data and why?"
      ],
      "metadata": {
        "id": "yiiVWRdJDDil"
      }
    },
    {
      "cell_type": "markdown",
      "source": [
        "Standard Scaler function is used for Normalisation or  Min-Max scaling. This function scales data to a fixed range, usually between 0 and 1."
      ],
      "metadata": {
        "id": "_l1DF36FygJS"
      }
    },
    {
      "cell_type": "markdown",
      "source": [
        "### 7. Dimesionality Reduction"
      ],
      "metadata": {
        "id": "1UUpS68QDMuG"
      }
    },
    {
      "cell_type": "markdown",
      "source": [
        "##### Do you think that dimensionality reduction is needed? Explain Why?"
      ],
      "metadata": {
        "id": "kexQrXU-DjzY"
      }
    },
    {
      "cell_type": "markdown",
      "source": [
        "Answer Here."
      ],
      "metadata": {
        "id": "GGRlBsSGDtTQ"
      }
    },
    {
      "cell_type": "code",
      "source": [
        "# DImensionality Reduction (If needed)"
      ],
      "metadata": {
        "id": "kQfvxBBHDvCa"
      },
      "execution_count": null,
      "outputs": []
    },
    {
      "cell_type": "markdown",
      "source": [
        "##### Which dimensionality reduction technique have you used and why? (If dimensionality reduction done on dataset.)"
      ],
      "metadata": {
        "id": "T5CmagL3EC8N"
      }
    },
    {
      "cell_type": "markdown",
      "source": [
        "Answer Here."
      ],
      "metadata": {
        "id": "ZKr75IDuEM7t"
      }
    },
    {
      "cell_type": "markdown",
      "source": [
        "### 8. Data Splitting"
      ],
      "metadata": {
        "id": "BhH2vgX9EjGr"
      }
    },
    {
      "cell_type": "code",
      "source": [
        "# Split your data to train and test. Choose Splitting ratio wisely.\n",
        "from sklearn.model_selection import train_test_split # Import train_test_split function\n",
        "X_train, X_test, y_train, y_test = train_test_split(X, y, test_size=0.2)"
      ],
      "metadata": {
        "id": "0CTyd2UwEyNM"
      },
      "execution_count": null,
      "outputs": []
    },
    {
      "cell_type": "markdown",
      "source": [
        "##### What data splitting ratio have you used and why?"
      ],
      "metadata": {
        "id": "qjKvONjwE8ra"
      }
    },
    {
      "cell_type": "markdown",
      "source": [
        "80-20 splitting ratio is used, i.e., 80% for training and 20% for testing as it is widely employed."
      ],
      "metadata": {
        "id": "Y2lJ8cobFDb_"
      }
    },
    {
      "cell_type": "markdown",
      "source": [
        "### 9. Handling Imbalanced Dataset"
      ],
      "metadata": {
        "id": "P1XJ9OREExlT"
      }
    },
    {
      "cell_type": "markdown",
      "source": [
        "##### Do you think the dataset is imbalanced? Explain Why."
      ],
      "metadata": {
        "id": "VFOzZv6IFROw"
      }
    },
    {
      "cell_type": "markdown",
      "source": [
        "Answer Here."
      ],
      "metadata": {
        "id": "GeKDIv7pFgcC"
      }
    },
    {
      "cell_type": "code",
      "source": [
        "# Handling Imbalanced Dataset (If needed)"
      ],
      "metadata": {
        "id": "nQsRhhZLFiDs"
      },
      "execution_count": null,
      "outputs": []
    },
    {
      "cell_type": "markdown",
      "source": [
        "##### What technique did you use to handle the imbalance dataset and why? (If needed to be balanced)"
      ],
      "metadata": {
        "id": "TIqpNgepFxVj"
      }
    },
    {
      "cell_type": "markdown",
      "source": [
        "Answer Here."
      ],
      "metadata": {
        "id": "qbet1HwdGDTz"
      }
    },
    {
      "cell_type": "markdown",
      "source": [
        "## ***7. ML Model Implementation***"
      ],
      "metadata": {
        "id": "VfCC591jGiD4"
      }
    },
    {
      "cell_type": "markdown",
      "source": [
        "### ML Model - 1"
      ],
      "metadata": {
        "id": "OB4l2ZhMeS1U"
      }
    },
    {
      "cell_type": "code",
      "source": [
        "# ML Model - 1 Implementation\n",
        "\n",
        "# Fit the Algorithm\n",
        "\n",
        "# Predict on the model\n",
        "\n",
        "# Import Linear Regression model\n",
        "from sklearn.linear_model import LinearRegression\n",
        "\n",
        "# Import evaluation metrics\n",
        "from sklearn.metrics import mean_squared_error, r2_score\n",
        "\n",
        "# Fit the Algorithm\n",
        "# Create a Linear Regression model instance\n",
        "linear_reg_model = LinearRegression()\n",
        "\n",
        "# Train the model using the training data\n",
        "linear_reg_model.fit(X_train, y_train)\n",
        "\n",
        "# Predict on the model\n",
        "# Make predictions on the testing data\n",
        "y_pred = linear_reg_model.predict(X_test)\n",
        "\n",
        "# Print evaluation metrics of the model\n",
        "print(\"## Evaluation Metrics for Linear Regression Model\")\n",
        "\n",
        "# Calculate Mean Squared Error (MSE)\n",
        "# MSE measures the average squared difference between the actual and predicted values. Lower values indicate better performance.\n",
        "mse = mean_squared_error(y_test, y_pred)\n",
        "print(f\"Mean Squared Error (MSE): {mse:.4f}\")\n",
        "\n",
        "# Calculate Root Mean Squared Error (RMSE)\n",
        "# RMSE is the square root of MSE and is on the same scale as the target variable. It is often easier to interpret than MSE.\n",
        "rmse = np.sqrt(mse)\n",
        "print(f\"Root Mean Squared Error (RMSE): {rmse:.4f}\")\n",
        "\n",
        "# Calculate R-squared (Coefficient of Determination)\n",
        "# R-squared measures the proportion of the variance in the dependent variable that is predictable from the independent variables.\n",
        "# A value of 1.0 indicates a perfect fit. [2]\n",
        "r2 = r2_score(y_test, y_pred)\n",
        "print(f\"R-squared (R2 Score): {r2:.4f}\")\n",
        "\n",
        "# Optional: Display the first few predictions and actual values\n",
        "print(\"\\nSample Predictions vs Actuals:\")\n",
        "# Create a DataFrame for easier comparison\n",
        "predictions_df = pd.DataFrame({'Actual': y_test, 'Predicted': y_pred})\n",
        "print(predictions_df.head())\n"
      ],
      "metadata": {
        "id": "7ebyywQieS1U"
      },
      "execution_count": null,
      "outputs": []
    },
    {
      "cell_type": "markdown",
      "source": [
        "#### 1. Explain the ML Model used and it's performance using Evaluation metric Score Chart."
      ],
      "metadata": {
        "id": "ArJBuiUVfxKd"
      }
    },
    {
      "cell_type": "code",
      "source": [
        "# Visualizing evaluation Metric Score chart\n",
        "# Visualise the score chart\n",
        "\n",
        "# Create a DataFrame for the evaluation metrics\n",
        "metrics_data = {'Metric': ['Mean Squared Error (MSE)', 'Root Mean Squared Error (RMSE)', 'R-squared (R2 Score)'],\n",
        "                'Score': [mse, rmse, r2]}\n",
        "metrics_df = pd.DataFrame(metrics_data)\n",
        "\n",
        "print(\"\\nEvaluation Metrics DataFrame:\")\n",
        "print(metrics_df)\n",
        "\n",
        "# Visualizing the metrics\n",
        "plt.figure(figsize=(10, 6))\n",
        "\n",
        "# For MSE and RMSE, a bar chart is suitable to show the value\n",
        "# For R-squared, a bar chart is also suitable to show the proportion\n",
        "sns.barplot(x='Metric', y='Score', data=metrics_df)\n",
        "\n",
        "# Add titles and labels\n",
        "plt.title('Linear Regression Model Evaluation Metrics')\n",
        "plt.ylabel('Score Value')\n",
        "plt.xlabel('Evaluation Metric')\n",
        "\n",
        "# Add the score values on top of the bars for clarity\n",
        "for index, row in metrics_df.iterrows():\n",
        "    plt.text(row.name, row.Score, f'{row.Score:.4f}', color='black', ha=\"center\")\n",
        "\n",
        "# Improve layout\n",
        "plt.tight_layout()\n",
        "\n",
        "# Display the plot\n",
        "plt.show()\n",
        "\n",
        "# You can also visualize the actual vs predicted values\n",
        "plt.figure(figsize=(10, 6))\n",
        "plt.scatter(y_test, y_pred, alpha=0.5)\n",
        "plt.plot([y_test.min(), y_test.max()], [y_test.min(), y_test.max()], 'r--', lw=2) # Add a diagonal line for perfect prediction\n",
        "plt.xlabel(\"Actual Prices\")\n",
        "plt.ylabel(\"Predicted Prices\")\n",
        "plt.title(\"Actual vs Predicted Closing Prices (Linear Regression)\")\n",
        "plt.grid(True)\n",
        "plt.show()"
      ],
      "metadata": {
        "id": "rqD5ZohzfxKe"
      },
      "execution_count": null,
      "outputs": []
    },
    {
      "cell_type": "markdown",
      "source": [
        "#### 2. Cross- Validation & Hyperparameter Tuning"
      ],
      "metadata": {
        "id": "4qY1EAkEfxKe"
      }
    },
    {
      "cell_type": "code",
      "source": [
        "# ML Model - 1 Implementation with hyperparameter optimization techniques (i.e., GridSearch CV, RandomSearch CV, Bayesian Optimization etc.)\n",
        "\n",
        "# Fit the Algorithm\n",
        "\n",
        "# Predict on the model\n",
        "\n",
        "## Hyperparameter Tuning - Random Search\n",
        "\n",
        "# Import necessary libraries for Random Search and the model\n",
        "from sklearn.model_selection import RandomizedSearchCV\n",
        "from sklearn.linear_model import LinearRegression\n",
        "import numpy as np\n",
        "\n",
        "# Define a parameter distribution for Random Search\n",
        "# For LinearRegression, consider `fit_intercept` as a parameter to tune.\n",
        "param_distributions = {\n",
        "    'fit_intercept': [True, False], # Whether to calculate the intercept for this model.\n",
        "}\n",
        "\n",
        "# Create a Linear Regression model instance\n",
        "linear_reg = LinearRegression()\n",
        "\n",
        "# Create a RandomizedSearchCV object\n",
        "# n_iter: Number of parameter settings that are sampled. Adjust based on computational resources.\n",
        "# cv: Number of cross-validation folds.\n",
        "# scoring: Metric to evaluate the models (e.g., 'neg_mean_squared_error' is common for regression, we negate it because GridSearchCV maximizes the score).\n",
        "# random_state: Seed for reproducibility.\n",
        "# n_jobs: Number of CPU cores to use. -1 uses all available cores.\n",
        "random_search = RandomizedSearchCV(estimator=linear_reg,\n",
        "                                   param_distributions=param_distributions,\n",
        "                                   n_iter=10, # Number of parameter settings sampled; adjust as needed\n",
        "                                   cv=5, # 5-fold cross-validation\n",
        "                                   scoring='neg_mean_squared_error', # Use negative MSE for scoring\n",
        "                                   random_state=42,\n",
        "                                   n_jobs=-1)\n",
        "\n",
        "# Perform the random search on the training data\n",
        "print(\"Starting Random Search for Hyperparameter Tuning...\")\n",
        "random_search.fit(X_train, y_train)\n",
        "print(\"Random Search finished.\")\n",
        "\n",
        "# Get the best parameters found by Random Search\n",
        "best_params = random_search.best_params_\n",
        "print(\"\\nBest Hyperparameters found by Random Search:\", best_params)\n",
        "\n",
        "# Get the best model trained during Random Search\n",
        "best_linear_reg_model = random_search.best_estimator_\n",
        "\n",
        "# Evaluate the best model on the testing data\n",
        "y_pred_tuned = best_linear_reg_model.predict(X_test)\n",
        "\n",
        "# Print evaluation metrics of the tuned model\n",
        "print(\"\\n## Evaluation Metrics for Tuned Linear Regression Model (via Random Search)\")\n",
        "\n",
        "# Calculate Mean Squared Error (MSE) for the tuned model\n",
        "mse_tuned = mean_squared_error(y_test, y_pred_tuned)\n",
        "print(f\"Mean Squared Error (MSE): {mse_tuned:.4f}\")\n",
        "\n",
        "# Calculate Root Mean Squared Error (RMSE) for the tuned model\n",
        "rmse_tuned = np.sqrt(mse_tuned)\n",
        "print(f\"Root Mean Squared Error (RMSE): {rmse_tuned:.4f}\")\n",
        "\n",
        "# Calculate R-squared (Coefficient of Determination) for the tuned model\n",
        "r2_tuned = r2_score(y_test, y_pred_tuned)\n",
        "print(f\"R-squared (R2 Score): {r2_tuned:.4f}\")"
      ],
      "metadata": {
        "id": "Dy61ujd6fxKe"
      },
      "execution_count": null,
      "outputs": []
    },
    {
      "cell_type": "markdown",
      "source": [
        "##### Which hyperparameter optimization technique have you used and why?"
      ],
      "metadata": {
        "id": "PiV4Ypx8fxKe"
      }
    },
    {
      "cell_type": "markdown",
      "source": [
        "Random Search was used as it is capable of exploring large spaces with fewer computational resources."
      ],
      "metadata": {
        "id": "negyGRa7fxKf"
      }
    },
    {
      "cell_type": "markdown",
      "source": [
        "##### Have you seen any improvement? Note down the improvement with updates Evaluation metric Score Chart."
      ],
      "metadata": {
        "id": "TfvqoZmBfxKf"
      }
    },
    {
      "cell_type": "markdown",
      "source": [
        "The evaluation metrics show no change."
      ],
      "metadata": {
        "id": "OaLui8CcfxKf"
      }
    },
    {
      "cell_type": "markdown",
      "source": [
        "### ML Model - 2"
      ],
      "metadata": {
        "id": "dJ2tPlVmpsJ0"
      }
    },
    {
      "cell_type": "markdown",
      "source": [
        "#### 1. Explain the ML Model used and it's performance using Evaluation metric Score Chart."
      ],
      "metadata": {
        "id": "JWYfwnehpsJ1"
      }
    },
    {
      "cell_type": "code",
      "source": [
        "# Visualizing evaluation Metric Score chart\n",
        "\n",
        "## ***7. ML Model Implementation***\n",
        "\n",
        "### ML Model - 2 - Decision Tree Regression\n",
        "\n",
        "# ML Model - 2 Implementation\n",
        "\n",
        "# Import Decision Tree Regressor model\n",
        "from sklearn.tree import DecisionTreeRegressor\n",
        "\n",
        "# Import evaluation metrics\n",
        "from sklearn.metrics import mean_squared_error, r2_score\n",
        "import numpy as np\n",
        "\n",
        "# Fit the Algorithm\n",
        "# Create a Decision Tree Regressor model instance\n",
        "# You can start with default parameters or specify some like max_depth\n",
        "decision_tree_model = DecisionTreeRegressor(random_state=42) # Setting random_state for reproducibility\n",
        "\n",
        "# Train the model using the training data\n",
        "decision_tree_model.fit(X_train, y_train)\n",
        "\n",
        "# Predict on the model\n",
        "# Make predictions on the testing data\n",
        "y_pred_dt = decision_tree_model.predict(X_test)\n",
        "\n",
        "# Print evaluation metrics of the model\n",
        "print(\"## Evaluation Metrics for Decision Tree Regression Model\")\n",
        "\n",
        "# Calculate Mean Squared Error (MSE)\n",
        "mse_dt = mean_squared_error(y_test, y_pred_dt)\n",
        "print(f\"Mean Squared Error (MSE): {mse_dt:.4f}\")\n",
        "\n",
        "# Calculate Root Mean Squared Error (RMSE)\n",
        "rmse_dt = np.sqrt(mse_dt)\n",
        "print(f\"Root Mean Squared Error (RMSE): {rmse_dt:.4f}\")\n",
        "\n",
        "# Calculate R-squared (Coefficient of Determination)\n",
        "r2_dt = r2_score(y_test, y_pred_dt)\n",
        "print(f\"R-squared (R2 Score): {r2_dt:.4f}\")\n",
        "\n",
        "# Optional: Display the first few predictions and actual values\n",
        "print(\"\\nSample Predictions vs Actuals (Decision Tree):\")\n",
        "# Create a DataFrame for easier comparison\n",
        "predictions_dt_df = pd.DataFrame({'Actual': y_test, 'Predicted': y_pred_dt})\n",
        "print(predictions_dt_df.head())\n",
        "\n",
        "# Visualise the score chart for Decision Tree Regression\n",
        "\n",
        "# Create a DataFrame for the evaluation metrics for Decision Tree\n",
        "metrics_data_dt = {'Metric': ['Mean Squared Error (MSE)', 'Root Mean Squared Error (RMSE)', 'R-squared (R2 Score)'],\n",
        "                   'Score': [mse_dt, rmse_dt, r2_dt]}\n",
        "metrics_dt_df = pd.DataFrame(metrics_data_dt)\n",
        "\n",
        "print(\"\\nDecision Tree Evaluation Metrics DataFrame:\")\n",
        "print(metrics_dt_df)\n",
        "\n",
        "# Visualizing the metrics for Decision Tree\n",
        "plt.figure(figsize=(10, 6))\n",
        "\n",
        "sns.barplot(x='Metric', y='Score', data=metrics_dt_df)\n",
        "\n",
        "# Add titles and labels\n",
        "plt.title('Decision Tree Regression Model Evaluation Metrics')\n",
        "plt.ylabel('Score Value')\n",
        "plt.xlabel('Evaluation Metric')\n",
        "\n",
        "# Add the score values on top of the bars for clarity\n",
        "for index, row in metrics_dt_df.iterrows():\n",
        "    plt.text(row.name, row.Score, f'{row.Score:.4f}', color='black', ha=\"center\")\n",
        "\n",
        "# Improve layout\n",
        "plt.tight_layout()\n",
        "\n",
        "# Display the plot\n",
        "plt.show()\n",
        "\n",
        "# You can also visualize the actual vs predicted values for Decision Tree\n",
        "plt.figure(figsize=(10, 6))\n",
        "plt.scatter(y_test, y_pred_dt, alpha=0.5)\n",
        "plt.plot([y_test.min(), y_test.max()], [y_test.min(), y_test.max()], 'r--', lw=2) # Add a diagonal line for perfect prediction\n",
        "plt.xlabel(\"Actual Prices\")\n",
        "plt.ylabel(\"Predicted Prices (Decision Tree)\")\n",
        "plt.title(\"Actual vs Predicted Closing Prices (Decision Tree Regression)\")\n",
        "plt.grid(True)\n",
        "plt.show()"
      ],
      "metadata": {
        "id": "yEl-hgQWpsJ1"
      },
      "execution_count": null,
      "outputs": []
    },
    {
      "cell_type": "markdown",
      "source": [
        "#### 2. Cross- Validation & Hyperparameter Tuning"
      ],
      "metadata": {
        "id": "-jK_YjpMpsJ2"
      }
    },
    {
      "cell_type": "code",
      "source": [
        "# ML Model - 1 Implementation with hyperparameter optimization techniques (i.e., GridSearch CV, RandomSearch CV, Bayesian Optimization etc.)\n",
        "\n",
        "# Fit the Algorithm\n",
        "\n",
        "# Predict on the model\n",
        "\n",
        "## Hyperparameter Tuning for Decision Tree Regression - Random Search\n",
        "\n",
        "# Import necessary libraries for Random Search and Decision Tree Regressor\n",
        "from sklearn.model_selection import RandomizedSearchCV\n",
        "from sklearn.tree import DecisionTreeRegressor\n",
        "import numpy as np\n",
        "\n",
        "# Define a parameter distribution for Random Search for Decision Tree\n",
        "param_distributions_dt = {\n",
        "    'max_depth': [None] + list(np.arange(5, 31, 5)), # Maximum depth of the tree. None means unlimited.\n",
        "    'min_samples_split': np.arange(2, 21, 2),      # Minimum number of samples required to split an internal node.\n",
        "    'min_samples_leaf': np.arange(1, 21, 2),        # Minimum number of samples required to be at a leaf node.\n",
        "    'max_features': ['auto', 'sqrt', 'log2', None], # Number of features to consider when looking for the best split. 'auto' is deprecated, consider 'sqrt' or 'log2'.\n",
        "    'splitter': ['best', 'random']                  # Strategy used to choose the split at each node.\n",
        "}\n",
        "\n",
        "# Create a Decision Tree Regressor model instance\n",
        "decision_tree = DecisionTreeRegressor(random_state=42) # Set random_state for reproducibility\n",
        "\n",
        "# Create a RandomizedSearchCV object\n",
        "# n_iter: Number of parameter settings that are sampled. Adjust based on computational resources.\n",
        "# cv: Number of cross-validation folds.\n",
        "# scoring: Metric to evaluate the models. 'neg_mean_squared_error' is common for regression.\n",
        "# random_state: Seed for reproducibility.\n",
        "# n_jobs: Number of CPU cores to use. -1 uses all available cores.\n",
        "random_search_dt = RandomizedSearchCV(estimator=decision_tree,\n",
        "                                      param_distributions=param_distributions_dt,\n",
        "                                      n_iter=50, # Increase n_iter for a more thorough search (e.g., 50 or 100)\n",
        "                                      cv=5, # 5-fold cross-validation\n",
        "                                      scoring='neg_mean_squared_error', # Use negative MSE for scoring\n",
        "                                      random_state=42,\n",
        "                                      n_jobs=-1,\n",
        "                                      verbose=1) # Add verbose to see the progress\n",
        "\n",
        "# Perform the random search on the training data\n",
        "print(\"Starting Random Search for Hyperparameter Tuning for Decision Tree...\")\n",
        "random_search_dt.fit(X_train, y_train)\n",
        "print(\"Random Search finished.\")\n",
        "\n",
        "# Get the best parameters found by Random Search\n",
        "best_params_dt = random_search_dt.best_params_\n",
        "print(\"\\nBest Hyperparameters found by Random Search (Decision Tree):\", best_params_dt)\n",
        "\n",
        "# Get the best model trained during Random Search\n",
        "best_decision_tree_model = random_search_dt.best_estimator_\n",
        "\n",
        "# Evaluate the best model on the testing data\n",
        "y_pred_tuned_dt = best_decision_tree_model.predict(X_test)\n",
        "\n",
        "# Print evaluation metrics of the tuned Decision Tree model\n",
        "print(\"\\n## Evaluation Metrics for Tuned Decision Tree Model (via Random Search)\")\n",
        "\n",
        "# Calculate Mean Squared Error (MSE) for the tuned model\n",
        "mse_tuned_dt = mean_squared_error(y_test, y_pred_tuned_dt)\n",
        "print(f\"Mean Squared Error (MSE): {mse_tuned_dt:.4f}\")\n",
        "\n",
        "# Calculate Root Mean Squared Error (RMSE) for the tuned model\n",
        "rmse_tuned_dt = np.sqrt(mse_tuned_dt)\n",
        "print(f\"Root Mean Squared Error (RMSE): {rmse_tuned_dt:.4f}\")\n",
        "\n",
        "# Calculate R-squared (Coefficient of Determination) for the tuned model\n",
        "r2_tuned_dt = r2_score(y_test, y_pred_tuned_dt)\n",
        "print(f\"R-squared (R2 Score): {r2_tuned_dt:.4f}\")"
      ],
      "metadata": {
        "id": "Dn0EOfS6psJ2"
      },
      "execution_count": null,
      "outputs": []
    },
    {
      "cell_type": "markdown",
      "source": [
        "##### Which hyperparameter optimization technique have you used and why?"
      ],
      "metadata": {
        "id": "HAih1iBOpsJ2"
      }
    },
    {
      "cell_type": "markdown",
      "source": [
        "Random Search was used as it is capable of exploring large spaces with fewer computational resources."
      ],
      "metadata": {
        "id": "9kBgjYcdpsJ2"
      }
    },
    {
      "cell_type": "markdown",
      "source": [
        "##### Have you seen any improvement? Note down the improvement with updates Evaluation metric Score Chart."
      ],
      "metadata": {
        "id": "zVGeBEFhpsJ2"
      }
    },
    {
      "cell_type": "markdown",
      "source": [
        "The evaluation metrics show no change."
      ],
      "metadata": {
        "id": "74yRdG6UpsJ3"
      }
    },
    {
      "cell_type": "markdown",
      "source": [
        "#### 3. Explain each evaluation metric's indication towards business and the business impact pf the ML model used."
      ],
      "metadata": {
        "id": "bmKjuQ-FpsJ3"
      }
    },
    {
      "cell_type": "markdown",
      "source": [
        "Answer Here."
      ],
      "metadata": {
        "id": "BDKtOrBQpsJ3"
      }
    },
    {
      "cell_type": "markdown",
      "source": [
        "### ML Model - 3"
      ],
      "metadata": {
        "id": "Fze-IPXLpx6K"
      }
    },
    {
      "cell_type": "code",
      "source": [
        "# ML Model - 3 Implementation\n",
        "\n",
        "# Fit the Algorithm\n",
        "\n",
        "# Predict on the model\n",
        "\n",
        "### ML Model - 3 - K-Nearest Neighbors Regression\n",
        "\n",
        "# ML Model - 3 Implementation\n",
        "\n",
        "# Import K-Nearest Neighbors Regressor model\n",
        "from sklearn.neighbors import KNeighborsRegressor\n",
        "\n",
        "# Import evaluation metrics\n",
        "from sklearn.metrics import mean_squared_error, r2_score\n",
        "import numpy as np\n",
        "\n",
        "# Fit the Algorithm\n",
        "# Create a K-Nearest Neighbors Regressor model instance\n",
        "# We'll start with a default or common value for n_neighbors, like 5.\n",
        "# The 'weights' parameter can be 'uniform' or 'distance'.\n",
        "# The 'algorithm' parameter can be 'auto', 'ball_tree', 'kd_tree', 'brute'.\n",
        "knn_reg_model = KNeighborsRegressor(n_neighbors=5) # Starting with 5 neighbors [1]\n",
        "\n",
        "# Train the model using the training data\n",
        "print(\"Training K-Nearest Neighbors Regression model...\")\n",
        "knn_reg_model.fit(X_train, y_train)\n",
        "print(\"Training finished.\")\n",
        "\n",
        "# Predict on the model\n",
        "# Make predictions on the testing data\n",
        "print(\"Making predictions on the test set...\")\n",
        "y_pred_knn = knn_reg_model.predict(X_test)\n",
        "print(\"Predictions finished.\")\n",
        "\n",
        "\n",
        "# Print evaluation metrics of the model\n",
        "print(\"\\n## Evaluation Metrics for K-Nearest Neighbors Regression Model\")\n",
        "\n",
        "# Calculate Mean Squared Error (MSE)\n",
        "mse_knn = mean_squared_error(y_test, y_pred_knn)\n",
        "print(f\"Mean Squared Error (MSE): {mse_knn:.4f}\")\n",
        "\n",
        "# Calculate Root Mean Squared Error (RMSE)\n",
        "rmse_knn = np.sqrt(mse_knn)\n",
        "print(f\"Root Mean Squared Error (RMSE): {rmse_knn:.4f}\")\n",
        "\n",
        "# Calculate R-squared (Coefficient of Determination)\n",
        "r2_knn = r2_score(y_test, y_pred_knn)\n",
        "print(f\"R-squared (R2 Score): {r2_knn:.4f}\")\n",
        "\n",
        "# Optional: Display the first few predictions and actual values\n",
        "print(\"\\nSample Predictions vs Actuals (K-Nearest Neighbors):\")\n",
        "# Create a DataFrame for easier comparison\n",
        "predictions_knn_df = pd.DataFrame({'Actual': y_test, 'Predicted': y_pred_knn})\n",
        "print(predictions_knn_df.head())"
      ],
      "metadata": {
        "id": "FFrSXAtrpx6M"
      },
      "execution_count": null,
      "outputs": []
    },
    {
      "cell_type": "markdown",
      "source": [
        "#### 1. Explain the ML Model used and it's performance using Evaluation metric Score Chart."
      ],
      "metadata": {
        "id": "7AN1z2sKpx6M"
      }
    },
    {
      "cell_type": "code",
      "source": [
        "# Visualizing evaluation Metric Score chart\n",
        "\n",
        "# Visualise the score chart for K-Nearest Neighbors Regression\n",
        "\n",
        "# Create a DataFrame for the evaluation metrics for K-Nearest Neighbors\n",
        "metrics_data_knn = {'Metric': ['Mean Squared Error (MSE)', 'Root Mean Squared Error (RMSE)', 'R-squared (R2 Score)'],\n",
        "                    'Score': [mse_knn, rmse_knn, r2_knn]}\n",
        "metrics_knn_df = pd.DataFrame(metrics_data_knn)\n",
        "\n",
        "print(\"\\nK-Nearest Neighbors Evaluation Metrics DataFrame:\")\n",
        "print(metrics_knn_df)\n",
        "\n",
        "# Visualizing the metrics for K-Nearest Neighbors\n",
        "plt.figure(figsize=(10, 6))\n",
        "\n",
        "sns.barplot(x='Metric', y='Score', data=metrics_knn_df)\n",
        "\n",
        "# Add titles and labels\n",
        "plt.title('K-Nearest Neighbors Regression Model Evaluation Metrics')\n",
        "plt.ylabel('Score Value')\n",
        "plt.xlabel('Evaluation Metric')\n",
        "\n",
        "# Add the score values on top of the bars for clarity\n",
        "for index, row in metrics_knn_df.iterrows():\n",
        "    plt.text(row.name, row.Score, f'{row.Score:.4f}', color='black', ha=\"center\")\n",
        "\n",
        "# Improve layout\n",
        "plt.tight_layout()\n",
        "\n",
        "# Display the plot\n",
        "plt.show()\n",
        "\n",
        "# You can also visualize the actual vs predicted values for K-Nearest Neighbors\n",
        "plt.figure(figsize=(10, 6))\n",
        "plt.scatter(y_test, y_pred_knn, alpha=0.5)\n",
        "plt.plot([y_test.min(), y_test.max()], [y_test.min(), y_test.max()], 'r--', lw=2) # Add a diagonal line for perfect prediction\n",
        "plt.xlabel(\"Actual Prices\")\n",
        "plt.ylabel(\"Predicted Prices (K-Nearest Neighbors)\")\n",
        "plt.title(\"Actual vs Predicted Closing Prices (K-Nearest Neighbors Regression)\")\n",
        "plt.grid(True)\n",
        "plt.show()"
      ],
      "metadata": {
        "id": "xIY4lxxGpx6M"
      },
      "execution_count": null,
      "outputs": []
    },
    {
      "cell_type": "markdown",
      "source": [
        "#### 2. Cross- Validation & Hyperparameter Tuning"
      ],
      "metadata": {
        "id": "9PIHJqyupx6M"
      }
    },
    {
      "cell_type": "code",
      "source": [
        "# ML Model - 3 Implementation with hyperparameter optimization techniques (i.e., GridSearch CV, RandomSearch CV, Bayesian Optimization etc.)\n",
        "\n",
        "# Fit the Algorithm\n",
        "\n",
        "# Predict on the model\n",
        "\n",
        "## Hyperparameter Tuning for K-Nearest Neighbors Regression - Random Search\n",
        "\n",
        "# Import necessary libraries for Random Search and KNeighborsRegressor\n",
        "from sklearn.model_selection import RandomizedSearchCV\n",
        "from sklearn.neighbors import KNeighborsRegressor\n",
        "import numpy as np\n",
        "\n",
        "# Define a parameter distribution for Random Search for K-Nearest Neighbors\n",
        "param_distributions_knn = {\n",
        "    'n_neighbors': np.arange(1, 31), # Number of neighbors to use. Try a range of values.\n",
        "    'weights': ['uniform', 'distance'], # Weight function used in prediction.\n",
        "    'algorithm': ['auto', 'ball_tree', 'kd_tree', 'brute'], # Algorithm used to compute the nearest neighbors.\n",
        "    'p': [1, 2] # Power parameter for the Minkowski metric. p=1 is Manhattan distance, p=2 is Euclidean distance.\n",
        "}\n",
        "\n",
        "# Create a K-Nearest Neighbors Regressor model instance\n",
        "knn_reg = KNeighborsRegressor()\n",
        "\n",
        "# Create a RandomizedSearchCV object\n",
        "# n_iter: Number of parameter settings that are sampled. Increase for a more thorough search.\n",
        "# cv: Number of cross-validation folds.\n",
        "# scoring: Metric to evaluate the models. 'neg_mean_squared_error' is common for regression.\n",
        "# random_state: Seed for reproducibility.\n",
        "# n_jobs: Number of CPU cores to use. -1 uses all available cores.\n",
        "random_search_knn = RandomizedSearchCV(estimator=knn_reg,\n",
        "                                       param_distributions=param_distributions_knn,\n",
        "                                       n_iter=50, # Number of parameter settings sampled; adjust as needed\n",
        "                                       cv=5, # 5-fold cross-validation\n",
        "                                       scoring='neg_mean_squared_error', # Use negative MSE for scoring [2]\n",
        "                                       random_state=42,\n",
        "                                       n_jobs=-1,\n",
        "                                       verbose=1) # Add verbose to see the progress\n",
        "\n",
        "# Perform the random search on the training data\n",
        "print(\"Starting Random Search for Hyperparameter Tuning for K-Nearest Neighbors...\")\n",
        "random_search_knn.fit(X_train, y_train)\n",
        "print(\"Random Search finished.\")\n",
        "\n",
        "# Get the best parameters found by Random Search\n",
        "best_params_knn = random_search_knn.best_params_\n",
        "print(\"\\nBest Hyperparameters found by Random Search (K-Nearest Neighbors):\", best_params_knn)\n",
        "\n",
        "# Get the best model trained during Random Search\n",
        "best_knn_reg_model = random_search_knn.best_estimator_\n",
        "\n",
        "# Evaluate the best model on the testing data\n",
        "y_pred_tuned_knn = best_knn_reg_model.predict(X_test)\n",
        "\n",
        "# Print evaluation metrics of the tuned K-Nearest Neighbors model\n",
        "print(\"\\n## Evaluation Metrics for Tuned K-Nearest Neighbors Model (via Random Search)\")\n",
        "\n",
        "# Calculate Mean Squared Error (MSE) for the tuned model\n",
        "mse_tuned_knn = mean_squared_error(y_test, y_pred_tuned_knn)\n",
        "print(f\"Mean Squared Error (MSE): {mse_tuned_knn:.4f}\")\n",
        "\n",
        "# Calculate Root Mean Squared Error (RMSE) for the tuned model\n",
        "rmse_tuned_knn = np.sqrt(mse_tuned_knn)\n",
        "print(f\"Root Mean Squared Error (RMSE): {rmse_tuned_knn:.4f}\")\n",
        "\n",
        "# Calculate R-squared (Coefficient of Determination) for the tuned model\n",
        "r2_tuned_knn = r2_score(y_test, y_pred_tuned_knn)\n",
        "print(f\"R-squared (R2 Score): {r2_tuned_knn:.4f}\")"
      ],
      "metadata": {
        "id": "eSVXuaSKpx6M"
      },
      "execution_count": null,
      "outputs": []
    },
    {
      "cell_type": "markdown",
      "source": [
        "##### Which hyperparameter optimization technique have you used and why?"
      ],
      "metadata": {
        "id": "_-qAgymDpx6N"
      }
    },
    {
      "cell_type": "markdown",
      "source": [
        "Random Search was used as it is capable of exploring large spaces with fewer computational resources."
      ],
      "metadata": {
        "id": "lQMffxkwpx6N"
      }
    },
    {
      "cell_type": "markdown",
      "source": [
        "##### Have you seen any improvement? Note down the improvement with updates Evaluation metric Score Chart."
      ],
      "metadata": {
        "id": "Z-hykwinpx6N"
      }
    },
    {
      "cell_type": "markdown",
      "source": [
        "The evaluation metrics show no change."
      ],
      "metadata": {
        "id": "MzVzZC6opx6N"
      }
    },
    {
      "cell_type": "markdown",
      "source": [
        "### 1. Which Evaluation metrics did you consider for a positive business impact and why?"
      ],
      "metadata": {
        "id": "h_CCil-SKHpo"
      }
    },
    {
      "cell_type": "markdown",
      "source": [
        "Mean Squared Error (MSE), Root Mean Squared Error (RMSE) and R squared metrics.<br>\n",
        "**Mean Squared Error (MSE):** MSE calculates the average of the squared differences between predicted and actual values. It provides a measure of the overall error in the model's predictions, with lower MSE indicating better performance. MSE is particularly useful when large errors are undesirable, as it penalizes them more heavily due to the squaring of the differences.<br>\n",
        "**Root Mean Squared Error (RMSE):** The average magnitude of the errors between predicted and actual values in a dataset. It measures how spread out the residuals (prediction errors) are from the regression line or the best fit line. A lower RMSE value signifies a better fit of the model to the data, with smaller differences between predicted and actual values. <br>\n",
        "**R-squared:** This metric represents the proportion of variance in the dependent variable that is explained by the independent variables in the model. A higher R-squared value (closer to 1) suggests a better fit, indicating that the model explains a larger portion of the variability in the target variable. In a business context, a higher R-squared for a revenue prediction model, for example, implies the model can accurately forecast revenue based on the factors it considers.  "
      ],
      "metadata": {
        "id": "jHVz9hHDKFms"
      }
    },
    {
      "cell_type": "markdown",
      "source": [
        "### 2. Which ML model did you choose from the above created models as your final prediction model and why?"
      ],
      "metadata": {
        "id": "cBFFvTBNJzUa"
      }
    },
    {
      "cell_type": "markdown",
      "source": [
        "the Tuned Linear Regression Model performs the best. It has the lowest Mean Squared Error and Root Mean Squared Error, and the highest R-squared score, indicating that it fits the testing data most accurately among the three tuned models."
      ],
      "metadata": {
        "id": "6ksF5Q1LKTVm"
      }
    },
    {
      "cell_type": "markdown",
      "source": [
        "### 3. Explain the model which you have used and the feature importance using any model explainability tool?"
      ],
      "metadata": {
        "id": "HvGl1hHyA_VK"
      }
    },
    {
      "cell_type": "markdown",
      "source": [
        "Answer Here."
      ],
      "metadata": {
        "id": "YnvVTiIxBL-C"
      }
    },
    {
      "cell_type": "markdown",
      "source": [
        "## ***8.*** ***Future Work (Optional)***"
      ],
      "metadata": {
        "id": "EyNgTHvd2WFk"
      }
    },
    {
      "cell_type": "markdown",
      "source": [
        "### 1. Save the best performing ml model in a pickle file or joblib file format for deployment process.\n"
      ],
      "metadata": {
        "id": "KH5McJBi2d8v"
      }
    },
    {
      "cell_type": "code",
      "source": [
        "# Save the File\n",
        "# Save all 3 tuned models using the pickle library\n",
        "\n",
        "import pickle\n",
        "import os\n",
        "\n",
        "# Define a directory to save the models (optional, but good practice)\n",
        "model_save_dir = 'saved_models'\n",
        "if not os.path.exists(model_save_dir):\n",
        "    os.makedirs(model_save_dir)\n",
        "\n",
        "# --- Save Tuned Linear Regression Model ---\n",
        "# Ensure best_linear_reg_model exists from previous tuning steps\n",
        "if 'best_linear_reg_model' in locals():\n",
        "    linear_reg_filename = os.path.join(model_save_dir, 'tuned_linear_regression_model.pkl')\n",
        "    try:\n",
        "        with open(linear_reg_filename, 'wb') as file:\n",
        "            pickle.dump(best_linear_reg_model, file)\n",
        "        print(f\"Tuned Linear Regression model saved successfully to {linear_reg_filename}\")\n",
        "    except Exception as e:\n",
        "        print(f\"Error saving Tuned Linear Regression model: {e}\")\n",
        "else:\n",
        "    print(\"Tuned Linear Regression model not found. Please run the tuning code first.\")\n",
        "\n",
        "\n",
        "# --- Save Tuned Decision Tree Model ---\n",
        "# Ensure best_decision_tree_model exists from previous tuning steps\n",
        "if 'best_decision_tree_model' in locals():\n",
        "    decision_tree_filename = os.path.join(model_save_dir, 'tuned_decision_tree_model.pkl')\n",
        "    try:\n",
        "        with open(decision_tree_filename, 'wb') as file:\n",
        "            pickle.dump(best_decision_tree_model, file)\n",
        "        print(f\"Tuned Decision Tree model saved successfully to {decision_tree_filename}\")\n",
        "    except Exception as e:\n",
        "        print(f\"Error saving Tuned Decision Tree model: {e}\")\n",
        "else:\n",
        "     print(\"Tuned Decision Tree model not found. Please run the tuning code first.\")\n",
        "\n",
        "\n",
        "# --- Save Tuned K-Nearest Neighbors Model ---\n",
        "# Ensure best_knn_reg_model exists from previous tuning steps\n",
        "if 'best_knn_reg_model' in locals():\n",
        "    knn_filename = os.path.join(model_save_dir, 'tuned_knn_regression_model.pkl')\n",
        "    try:\n",
        "        with open(knn_filename, 'wb') as file:\n",
        "            pickle.dump(best_knn_reg_model, file)\n",
        "        print(f\"Tuned K-Nearest Neighbors model saved successfully to {knn_filename}\")\n",
        "    except Exception as e:\n",
        "        print(f\"Error saving Tuned K-Nearest Neighbors model: {e}\")\n",
        "else:\n",
        "    print(\"Tuned K-Nearest Neighbors model not found. Please run the tuning code first.\")"
      ],
      "metadata": {
        "id": "bQIANRl32f4J"
      },
      "execution_count": null,
      "outputs": []
    },
    {
      "cell_type": "markdown",
      "source": [
        "### 2. Again Load the saved model file and try to predict unseen data for a sanity check.\n"
      ],
      "metadata": {
        "id": "iW_Lq9qf2h6X"
      }
    },
    {
      "cell_type": "code",
      "source": [
        "## ***8. Loading and Testing a Saved Model***\n",
        "\n",
        "### Variable Description using describe()\n",
        "\n",
        "# Dataset Describe\n",
        "print(\"## Description of Dataset Variables:\")\n",
        "print(df1.describe())\n",
        "\n",
        "### Loading a Saved Model and Testing on Unseen Data\n",
        "\n",
        "# Import necessary libraries\n",
        "import pickle\n",
        "import os\n",
        "import pandas as pd\n",
        "import numpy as np\n",
        "\n",
        "# Define the directory where models were saved\n",
        "model_save_dir = 'saved_models'\n",
        "\n",
        "# --- Choose which model to load and test ---\n",
        "# Let's choose to load the best performing one based on your metrics, the Tuned Linear Regression model.\n",
        "model_filename = os.path.join(model_save_dir, 'tuned_linear_regression_model.pkl')\n",
        "\n",
        "# Check if the model file exists\n",
        "if not os.path.exists(model_filename):\n",
        "    print(f\"Error: Model file not found at {model_filename}. Please ensure the saving code ran correctly.\")\n",
        "else:\n",
        "    # --- Load the model ---\n",
        "    print(f\"\\nLoading model from {model_filename}...\")\n",
        "    try:\n",
        "        with open(model_filename, 'rb') as file:\n",
        "            loaded_model = pickle.load(file)\n",
        "        print(\"Model loaded successfully.\")\n",
        "\n",
        "        # --- Create some unseen random data ---\n",
        "        # We need to create data with the same features (columns) that the model was trained on.\n",
        "        # Based on your feature selection, the features were 'Open', 'High', and 'Low'.\n",
        "        # Let's create a small DataFrame with random values within a plausible range based on your dataset's describe output.\n",
        "        # NOTE: Replace these plausible ranges with values that make sense for potential future scenarios.\n",
        "        # For demonstration, let's use ranges derived loosely from your data's min/max or mean +/- std dev.\n",
        "\n",
        "        # Get descriptive statistics to inform plausible ranges\n",
        "        desc_stats = df1[['Open', 'High', 'Low']].describe()\n",
        "\n",
        "        # Create random data points\n",
        "        num_random_samples = 5 # How many random data points you want to test\n",
        "\n",
        "        random_data = {}\n",
        "        for col in ['Open', 'High', 'Low']:\n",
        "            # Generate random numbers between the min and max of the training data for that feature\n",
        "            # Or use mean +/- a few std deviations\n",
        "            mean_val = desc_stats.loc['mean', col]\n",
        "            std_val = desc_stats.loc['std', col]\n",
        "            # Let's generate data around the mean, but you could use min/max as well.\n",
        "            # Ensure values are non-negative for prices.\n",
        "            random_data[col] = np.random.uniform(max(0, mean_val - 1.5 * std_val), mean_val + 1.5 * std_val, num_random_samples)\n",
        "\n",
        "\n",
        "        unseen_data = pd.DataFrame(random_data)\n",
        "\n",
        "        print(\"\\nUnseen Random Data for Testing:\")\n",
        "        print(unseen_data)\n",
        "\n",
        "        # --- Make predictions on the unseen data ---\n",
        "        print(\"\\nMaking predictions on the unseen data...\")\n",
        "        try:\n",
        "            predicted_prices = loaded_model.predict(unseen_data)\n",
        "\n",
        "            print(\"\\nPredicted Closing Prices for Unseen Data:\")\n",
        "            # Display predictions along with the input data for clarity\n",
        "            unseen_data['Predicted_Close'] = predicted_prices\n",
        "            print(unseen_data)\n",
        "\n",
        "        except Exception as e:\n",
        "             print(f\"Error making predictions: {e}\")\n",
        "\n",
        "\n",
        "    except Exception as e:\n",
        "        print(f\"Error loading the model: {e}\")"
      ],
      "metadata": {
        "id": "oEXk9ydD2nVC"
      },
      "execution_count": null,
      "outputs": []
    },
    {
      "cell_type": "markdown",
      "source": [
        "### ***Congrats! Your model is successfully created and ready for deployment on a live server for a real user interaction !!!***"
      ],
      "metadata": {
        "id": "-Kee-DAl2viO"
      }
    },
    {
      "cell_type": "markdown",
      "source": [
        "# **Conclusion**"
      ],
      "metadata": {
        "id": "gCX9965dhzqZ"
      }
    },
    {
      "cell_type": "markdown",
      "source": [
        "3 machine learning models using supervised learning were deployed for Yes Bank Stock Price Prediciton- Linear Regression model, Decision Tree model and K-Nearest Neighbour (KNN) model. The data was explored, cleaned and wrangled, making it suitable for the learning process. It was then split into 80-20 ratio, where 80% was used for training and 20% for testing. The predicted values of the model were then compared with the actual values in training set, and based on this, the evaluation metrics were calculated to determine the models' performance. Out of the 3 models, the Linear Regression model had the lowest MSE and RMSE values and the highest R squared values, due to which it was deemed most suitable for the task. The models were then saved using the pickle library for future use."
      ],
      "metadata": {
        "id": "Fjb1IsQkh3yE"
      }
    },
    {
      "cell_type": "markdown",
      "source": [
        "### ***Hurrah! You have successfully completed your Machine Learning Capstone Project !!!***"
      ],
      "metadata": {
        "id": "gIfDvo9L0UH2"
      }
    }
  ]
}